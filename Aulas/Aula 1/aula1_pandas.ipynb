{
 "cells": [
  {
   "cell_type": "markdown",
   "metadata": {
    "slideshow": {
     "slide_type": "-"
    }
   },
   "source": [
    "# Introdução ao Pandas\n",
    "O Pandas é um package python desenvolvido sobre o package NumPy.\n",
    "As suas principais caracteristiscas/funcionalidades são as seguintes:\n",
    "* Facilidade de lidar com dados em falta (missing data), representados como NaN;\n",
    "* Permite adicionar/remover colunas em objectos de grandes dimensões;\n",
    "* Permite o agrupamento dos dados para agregação ou transformação;\n",
    "* Facilidade em converter dados em estruturas NumPy ou Python (e.g. listas) em DataFrames;\n",
    "* Atribuição de nomes aos eixos;\n",
    "* Seleção de dados por nomes de eixos ou indexação;\n",
    "* Funções que facilitam a leitura/escrita de dados em formatos: CSV, Excel e HDF5;\n",
    "* Funções especificas para séries temporais.\n"
   ]
  },
  {
   "cell_type": "markdown",
   "metadata": {},
   "source": [
    "## Importação do package pandas \n",
    "Para ser mais simples a designação do package na chamada de funções, iremos importá-lo atribuindo-lhe a designação pd."
   ]
  },
  {
   "cell_type": "code",
   "execution_count": 1,
   "metadata": {},
   "outputs": [],
   "source": [
    "import numpy as np\n",
    "import pandas as pd"
   ]
  },
  {
   "cell_type": "markdown",
   "metadata": {},
   "source": [
    "## Estruturas de dados\n",
    "\n",
    "### Series\n",
    "Array de uma dimensão que pode guardar dados de qualquer tipo. O conjunto de labels (designação de cada um dos elementos do array) é designado por *index*.\n",
    "Objetos deste tipo podem ser iniciados a partir de um dicionário, onde as chaves serão usadas como labels."
   ]
  },
  {
   "cell_type": "code",
   "execution_count": 2,
   "metadata": {},
   "outputs": [
    {
     "name": "stdout",
     "output_type": "stream",
     "text": [
      "0    0\n",
      "1    1\n",
      "2    2\n",
      "3    3\n",
      "4    4\n",
      "dtype: int64\n",
      "------\n"
     ]
    },
    {
     "data": {
      "text/plain": [
       "a    0\n",
       "b    1\n",
       "c    2\n",
       "d    3\n",
       "e    4\n",
       "dtype: int64"
      ]
     },
     "execution_count": 2,
     "metadata": {},
     "output_type": "execute_result"
    }
   ],
   "source": [
    "s1 = pd.Series(np.arange(5))\n",
    "print(s1)\n",
    "print(\"------\")\n",
    "s1.index = ['a','b','c','d','e']\n",
    "s1"
   ]
  },
  {
   "cell_type": "code",
   "execution_count": 3,
   "metadata": {},
   "outputs": [
    {
     "name": "stdout",
     "output_type": "stream",
     "text": [
      "10    1.0\n",
      "11    1.2\n",
      "12    1.4\n",
      "13    1.6\n",
      "14    1.8\n",
      "15    2.0\n",
      "16    2.2\n",
      "17    2.4\n",
      "18    2.6\n",
      "19    2.8\n",
      "Name: serie_obj, dtype: float64\n"
     ]
    }
   ],
   "source": [
    "s2 = pd.Series(np.arange(1,3,0.2), index = range(10,20), name=\"serie_obj\")\n",
    "print(s2)"
   ]
  },
  {
   "cell_type": "markdown",
   "metadata": {},
   "source": [
    "#### Seleção de valores\n",
    "Os elementos do objeto Series podem ser acedidos através:\n",
    "* do uso de [ ] juntamente com o nome das labels   \n",
    "* atributo *iloc* - com base em índices (0 até tamanho objeto -1)\n",
    "* atributo *loc* - com base nas labels\n",
    "\n",
    "Considerando a série anterior, são apresentadas de seguida as 3 formas de selecionar o terceiro elemento da série (valor 2)."
   ]
  },
  {
   "cell_type": "code",
   "execution_count": 4,
   "metadata": {},
   "outputs": [
    {
     "name": "stdout",
     "output_type": "stream",
     "text": [
      "2\n",
      "2\n",
      "2\n"
     ]
    }
   ],
   "source": [
    "print(s1['c'])   # o tipo de dados das labels são int\n",
    "print(s1.iloc[2])\n",
    "print(s1.loc['c'])"
   ]
  },
  {
   "cell_type": "code",
   "execution_count": 6,
   "metadata": {},
   "outputs": [
    {
     "name": "stdout",
     "output_type": "stream",
     "text": [
      "1.4\n",
      "1.4\n",
      "1.4\n"
     ]
    }
   ],
   "source": [
    "print(s2[12])   # o tipo de dados das labels são int\n",
    "print(s2.iloc[2])\n",
    "print(s2.loc[12])\n",
    "\n",
    "#Nota:  s2[2] não funciona, pois não há nenhuma label com o identificador 2 "
   ]
  },
  {
   "cell_type": "markdown",
   "metadata": {},
   "source": [
    "Para selecionar intervalos de valores:"
   ]
  },
  {
   "cell_type": "code",
   "execution_count": 7,
   "metadata": {},
   "outputs": [
    {
     "name": "stdout",
     "output_type": "stream",
     "text": [
      "11    1.2\n",
      "12    1.4\n",
      "13    1.6\n",
      "14    1.8\n",
      "15    2.0\n",
      "Name: serie_obj, dtype: float64\n",
      "------\n",
      "10    1.0\n",
      "12    1.4\n",
      "14    1.8\n",
      "Name: serie_obj, dtype: float64\n",
      "------\n",
      "2.8\n",
      "------\n",
      "10    1.0\n",
      "11    1.2\n",
      "12    1.4\n",
      "13    1.6\n",
      "14    1.8\n",
      "15    2.0\n",
      "16    2.2\n",
      "17    2.4\n",
      "18    2.6\n",
      "Name: serie_obj, dtype: float64\n",
      "------\n",
      "10    1.0\n",
      "11    1.2\n",
      "12    1.4\n",
      "13    1.6\n",
      "14    1.8\n",
      "15    2.0\n",
      "16    2.2\n",
      "17    2.4\n",
      "18    2.6\n",
      "19    2.8\n",
      "Name: serie_obj, dtype: float64\n"
     ]
    }
   ],
   "source": [
    "print(s2.loc[11:15])   # seleciona as valores em que as labels estão entre 11 e 15\n",
    "print(\"------\")\n",
    "print(s2.iloc[:6:2])   #seleciona até ao índice 6 com saltos de 2\n",
    "print(\"------\")\n",
    "print(s2.iloc[-1])     #devolve último elemento da série\n",
    "print(\"------\")\n",
    "print(s2.iloc[:-1])     #remove último elemento da série\n",
    "print(\"------\")\n",
    "print(s2)"
   ]
  },
  {
   "cell_type": "markdown",
   "metadata": {},
   "source": [
    "Para verificar se determinado elemento ou lista de elementos estão no objeto do tipo Series, pode-se usar a função *isin*."
   ]
  },
  {
   "cell_type": "code",
   "execution_count": 8,
   "metadata": {},
   "outputs": [
    {
     "name": "stdout",
     "output_type": "stream",
     "text": [
      "a    0\n",
      "b    1\n",
      "c    2\n",
      "d    3\n",
      "dtype: int64\n",
      "------\n",
      "d    3\n",
      "e    4\n",
      "dtype: int64\n"
     ]
    }
   ],
   "source": [
    "print(s1.loc['a':'d'])\n",
    "print(\"------\")\n",
    "print(s1.iloc[3:])"
   ]
  },
  {
   "cell_type": "code",
   "execution_count": 9,
   "metadata": {},
   "outputs": [
    {
     "data": {
      "text/plain": [
       "a    False\n",
       "b    False\n",
       "c     True\n",
       "d     True\n",
       "e    False\n",
       "dtype: bool"
      ]
     },
     "execution_count": 9,
     "metadata": {},
     "output_type": "execute_result"
    }
   ],
   "source": [
    "s1.isin([2,3])"
   ]
  },
  {
   "cell_type": "markdown",
   "metadata": {
    "collapsed": true
   },
   "source": [
    "### DataFrame\n",
    "Um **DataFrame** é uma estrutura de dados com duas dimensões, onde as colunas podem conter diferentes tipos de dados. Estes objetos permitem a definição de labels para as linhas e colunas, tornando-se desta forma a interpretação dos dados mais simples.\n",
    "São similares às folhas de cálculo do Excel.\n",
    "\n",
    "Para uma melhor compreensão da estrutura de um DataFrame, vamos criar dois objectos do tipo Series e posteriormente contruir um DataFrame com base nessa informação."
   ]
  },
  {
   "cell_type": "code",
   "execution_count": 11,
   "metadata": {},
   "outputs": [
    {
     "data": {
      "text/html": [
       "<div>\n",
       "<style scoped>\n",
       "    .dataframe tbody tr th:only-of-type {\n",
       "        vertical-align: middle;\n",
       "    }\n",
       "\n",
       "    .dataframe tbody tr th {\n",
       "        vertical-align: top;\n",
       "    }\n",
       "\n",
       "    .dataframe thead th {\n",
       "        text-align: right;\n",
       "    }\n",
       "</style>\n",
       "<table border=\"1\" class=\"dataframe\">\n",
       "  <thead>\n",
       "    <tr style=\"text-align: right;\">\n",
       "      <th></th>\n",
       "      <th>Avg. Depth (m)</th>\n",
       "      <th>Max. Depth (m)</th>\n",
       "    </tr>\n",
       "  </thead>\n",
       "  <tbody>\n",
       "    <tr>\n",
       "      <th>Arctic</th>\n",
       "      <td>1205.0</td>\n",
       "      <td>5567.0</td>\n",
       "    </tr>\n",
       "    <tr>\n",
       "      <th>Atlantic</th>\n",
       "      <td>3646.0</td>\n",
       "      <td>8486.0</td>\n",
       "    </tr>\n",
       "    <tr>\n",
       "      <th>Indian</th>\n",
       "      <td>3741.0</td>\n",
       "      <td>7906.0</td>\n",
       "    </tr>\n",
       "    <tr>\n",
       "      <th>Pacific</th>\n",
       "      <td>4080.0</td>\n",
       "      <td>10803.0</td>\n",
       "    </tr>\n",
       "    <tr>\n",
       "      <th>Southern</th>\n",
       "      <td>3270.0</td>\n",
       "      <td>7075.0</td>\n",
       "    </tr>\n",
       "  </tbody>\n",
       "</table>\n",
       "</div>"
      ],
      "text/plain": [
       "          Avg. Depth (m)  Max. Depth (m)\n",
       "Arctic            1205.0          5567.0\n",
       "Atlantic          3646.0          8486.0\n",
       "Indian            3741.0          7906.0\n",
       "Pacific           4080.0         10803.0\n",
       "Southern          3270.0          7075.0"
      ]
     },
     "execution_count": 11,
     "metadata": {},
     "output_type": "execute_result"
    }
   ],
   "source": [
    "avg_ocean_depth = pd.Series({\n",
    "                    'Arctic': 1205,\n",
    "                    'Atlantic': 3646,\n",
    "                    'Indian': 3741,\n",
    "                    'Pacific': 4080,\n",
    "                    'Southern': 3270\n",
    "})\n",
    "\n",
    "max_ocean_depth = pd.Series({\n",
    "                    'Arctic': 5567,\n",
    "                    'Atlantic': 8486,\n",
    "                    'Indian': 7906,\n",
    "                    'Pacific': 10803,\n",
    "                    'Southern': 7075\n",
    "})\n",
    "ocean_depths = pd.DataFrame({\n",
    "                    'Avg. Depth (m)': avg_ocean_depth,\n",
    "                    'Max. Depth (m)': max_ocean_depth\n",
    "}, dtype = float)\n",
    "\n",
    "ocean_depths\n",
    "\n"
   ]
  },
  {
   "cell_type": "code",
   "execution_count": 12,
   "metadata": {},
   "outputs": [
    {
     "data": {
      "text/html": [
       "<div>\n",
       "<style scoped>\n",
       "    .dataframe tbody tr th:only-of-type {\n",
       "        vertical-align: middle;\n",
       "    }\n",
       "\n",
       "    .dataframe tbody tr th {\n",
       "        vertical-align: top;\n",
       "    }\n",
       "\n",
       "    .dataframe thead th {\n",
       "        text-align: right;\n",
       "    }\n",
       "</style>\n",
       "<table border=\"1\" class=\"dataframe\">\n",
       "  <thead>\n",
       "    <tr style=\"text-align: right;\">\n",
       "      <th></th>\n",
       "      <th>Avg. Depth (m)</th>\n",
       "      <th>Max. Depth (m)</th>\n",
       "    </tr>\n",
       "  </thead>\n",
       "  <tbody>\n",
       "    <tr>\n",
       "      <th>Arctic</th>\n",
       "      <td>1205.0</td>\n",
       "      <td>5567.0</td>\n",
       "    </tr>\n",
       "    <tr>\n",
       "      <th>Atlantic</th>\n",
       "      <td>3646.0</td>\n",
       "      <td>8486.0</td>\n",
       "    </tr>\n",
       "    <tr>\n",
       "      <th>Indian</th>\n",
       "      <td>3741.0</td>\n",
       "      <td>7906.0</td>\n",
       "    </tr>\n",
       "    <tr>\n",
       "      <th>Pacific</th>\n",
       "      <td>4080.0</td>\n",
       "      <td>10803.0</td>\n",
       "    </tr>\n",
       "    <tr>\n",
       "      <th>Southern</th>\n",
       "      <td>3270.0</td>\n",
       "      <td>7075.0</td>\n",
       "    </tr>\n",
       "  </tbody>\n",
       "</table>\n",
       "</div>"
      ],
      "text/plain": [
       "          Avg. Depth (m)  Max. Depth (m)\n",
       "Arctic            1205.0          5567.0\n",
       "Atlantic          3646.0          8486.0\n",
       "Indian            3741.0          7906.0\n",
       "Pacific           4080.0         10803.0\n",
       "Southern          3270.0          7075.0"
      ]
     },
     "execution_count": 12,
     "metadata": {},
     "output_type": "execute_result"
    }
   ],
   "source": [
    "## outra forma de criar o mesmo \n",
    "ocean_depths2 = pd.DataFrame([[1205,5567],[3646,8486],[3741,7906],[4080,10803],[3270,7075]], \n",
    "     index=['Arctic','Atlantic','Indian','Pacific','Southern'],\n",
    "     columns=['Avg. Depth (m)','Max. Depth (m)'], dtype = float)\n",
    "\n",
    "ocean_depths2\n"
   ]
  },
  {
   "cell_type": "code",
   "execution_count": 14,
   "metadata": {},
   "outputs": [
    {
     "data": {
      "text/html": [
       "<div>\n",
       "<style scoped>\n",
       "    .dataframe tbody tr th:only-of-type {\n",
       "        vertical-align: middle;\n",
       "    }\n",
       "\n",
       "    .dataframe tbody tr th {\n",
       "        vertical-align: top;\n",
       "    }\n",
       "\n",
       "    .dataframe thead th {\n",
       "        text-align: right;\n",
       "    }\n",
       "</style>\n",
       "<table border=\"1\" class=\"dataframe\">\n",
       "  <thead>\n",
       "    <tr style=\"text-align: right;\">\n",
       "      <th></th>\n",
       "      <th>Avg. Depth (m)</th>\n",
       "      <th>Max. Depth (m)</th>\n",
       "    </tr>\n",
       "  </thead>\n",
       "  <tbody>\n",
       "    <tr>\n",
       "      <th>Arctic</th>\n",
       "      <td>1205</td>\n",
       "      <td>5567</td>\n",
       "    </tr>\n",
       "    <tr>\n",
       "      <th>Atlantic</th>\n",
       "      <td>3646</td>\n",
       "      <td>8486</td>\n",
       "    </tr>\n",
       "    <tr>\n",
       "      <th>Indian</th>\n",
       "      <td>3741</td>\n",
       "      <td>7906</td>\n",
       "    </tr>\n",
       "    <tr>\n",
       "      <th>Pacific</th>\n",
       "      <td>4080</td>\n",
       "      <td>10803</td>\n",
       "    </tr>\n",
       "    <tr>\n",
       "      <th>Southern</th>\n",
       "      <td>3270</td>\n",
       "      <td>7075</td>\n",
       "    </tr>\n",
       "  </tbody>\n",
       "</table>\n",
       "</div>"
      ],
      "text/plain": [
       "          Avg. Depth (m)  Max. Depth (m)\n",
       "Arctic              1205            5567\n",
       "Atlantic            3646            8486\n",
       "Indian              3741            7906\n",
       "Pacific             4080           10803\n",
       "Southern            3270            7075"
      ]
     },
     "execution_count": 14,
     "metadata": {},
     "output_type": "execute_result"
    }
   ],
   "source": [
    "## ainda outra ... se nao especificarmos o tipo ficam valores inteiros ...\n",
    "avg_ocean_depth = [1205,3646,3741,4080,3270]\n",
    "max_ocean_depth = [5567,8486,7906,10803,7075]\n",
    "\n",
    "ocean_depths3 = pd.DataFrame({\n",
    "                    'Avg. Depth (m)': avg_ocean_depth,\n",
    "                    'Max. Depth (m)': max_ocean_depth\n",
    "},  index=['Arctic','Atlantic','Indian','Pacific','Southern'])\n",
    "\n",
    "ocean_depths3"
   ]
  },
  {
   "cell_type": "markdown",
   "metadata": {},
   "source": [
    "Para imprimir os principais atributos do objeto."
   ]
  },
  {
   "cell_type": "code",
   "execution_count": 15,
   "metadata": {},
   "outputs": [
    {
     "data": {
      "text/plain": [
       "Index(['Arctic', 'Atlantic', 'Indian', 'Pacific', 'Southern'], dtype='object')"
      ]
     },
     "execution_count": 15,
     "metadata": {},
     "output_type": "execute_result"
    }
   ],
   "source": [
    "ocean_depths.index"
   ]
  },
  {
   "cell_type": "code",
   "execution_count": 16,
   "metadata": {},
   "outputs": [
    {
     "data": {
      "text/plain": [
       "Index(['Avg. Depth (m)', 'Max. Depth (m)'], dtype='object')"
      ]
     },
     "execution_count": 16,
     "metadata": {},
     "output_type": "execute_result"
    }
   ],
   "source": [
    "ocean_depths.columns"
   ]
  },
  {
   "cell_type": "code",
   "execution_count": 18,
   "metadata": {},
   "outputs": [
    {
     "data": {
      "text/plain": [
       "Avg. Depth (m)    float64\n",
       "Max. Depth (m)    float64\n",
       "dtype: object"
      ]
     },
     "execution_count": 18,
     "metadata": {},
     "output_type": "execute_result"
    }
   ],
   "source": [
    "ocean_depths.dtypes"
   ]
  },
  {
   "cell_type": "code",
   "execution_count": 20,
   "metadata": {},
   "outputs": [
    {
     "data": {
      "text/plain": [
       "Avg. Depth (m)    int64\n",
       "Max. Depth (m)    int64\n",
       "dtype: object"
      ]
     },
     "execution_count": 20,
     "metadata": {},
     "output_type": "execute_result"
    }
   ],
   "source": [
    "ocean_depths3.dtypes"
   ]
  },
  {
   "cell_type": "code",
   "execution_count": 21,
   "metadata": {},
   "outputs": [
    {
     "data": {
      "text/plain": [
       "numpy.ndarray"
      ]
     },
     "execution_count": 21,
     "metadata": {},
     "output_type": "execute_result"
    }
   ],
   "source": [
    "type(ocean_depths.values)"
   ]
  },
  {
   "cell_type": "markdown",
   "metadata": {},
   "source": [
    "#### Funções \n",
    "Nesta secção, serão usadas algumas funções que podem ser aplicadas sobre objetos DataFrame,, como por exemplo:\n",
    "* add_prefix\n",
    "* tail\n",
    "* sort_values, sort_index \n",
    "* groupby\n",
    "* isnull\n",
    "* iterrows\n"
   ]
  },
  {
   "cell_type": "code",
   "execution_count": 22,
   "metadata": {},
   "outputs": [
    {
     "data": {
      "text/html": [
       "<div>\n",
       "<style scoped>\n",
       "    .dataframe tbody tr th:only-of-type {\n",
       "        vertical-align: middle;\n",
       "    }\n",
       "\n",
       "    .dataframe tbody tr th {\n",
       "        vertical-align: top;\n",
       "    }\n",
       "\n",
       "    .dataframe thead th {\n",
       "        text-align: right;\n",
       "    }\n",
       "</style>\n",
       "<table border=\"1\" class=\"dataframe\">\n",
       "  <thead>\n",
       "    <tr style=\"text-align: right;\">\n",
       "      <th></th>\n",
       "      <th>col Avg. Depth (m)</th>\n",
       "      <th>col Max. Depth (m)</th>\n",
       "    </tr>\n",
       "  </thead>\n",
       "  <tbody>\n",
       "    <tr>\n",
       "      <th>Arctic</th>\n",
       "      <td>1205.0</td>\n",
       "      <td>5567.0</td>\n",
       "    </tr>\n",
       "    <tr>\n",
       "      <th>Atlantic</th>\n",
       "      <td>3646.0</td>\n",
       "      <td>8486.0</td>\n",
       "    </tr>\n",
       "    <tr>\n",
       "      <th>Indian</th>\n",
       "      <td>3741.0</td>\n",
       "      <td>7906.0</td>\n",
       "    </tr>\n",
       "    <tr>\n",
       "      <th>Pacific</th>\n",
       "      <td>4080.0</td>\n",
       "      <td>10803.0</td>\n",
       "    </tr>\n",
       "    <tr>\n",
       "      <th>Southern</th>\n",
       "      <td>3270.0</td>\n",
       "      <td>7075.0</td>\n",
       "    </tr>\n",
       "  </tbody>\n",
       "</table>\n",
       "</div>"
      ],
      "text/plain": [
       "          col Avg. Depth (m)  col Max. Depth (m)\n",
       "Arctic                1205.0              5567.0\n",
       "Atlantic              3646.0              8486.0\n",
       "Indian                3741.0              7906.0\n",
       "Pacific               4080.0             10803.0\n",
       "Southern              3270.0              7075.0"
      ]
     },
     "execution_count": 22,
     "metadata": {},
     "output_type": "execute_result"
    }
   ],
   "source": [
    "ocean_depths.add_prefix(\"col \")"
   ]
  },
  {
   "cell_type": "code",
   "execution_count": 23,
   "metadata": {},
   "outputs": [
    {
     "data": {
      "text/html": [
       "<div>\n",
       "<style scoped>\n",
       "    .dataframe tbody tr th:only-of-type {\n",
       "        vertical-align: middle;\n",
       "    }\n",
       "\n",
       "    .dataframe tbody tr th {\n",
       "        vertical-align: top;\n",
       "    }\n",
       "\n",
       "    .dataframe thead th {\n",
       "        text-align: right;\n",
       "    }\n",
       "</style>\n",
       "<table border=\"1\" class=\"dataframe\">\n",
       "  <thead>\n",
       "    <tr style=\"text-align: right;\">\n",
       "      <th></th>\n",
       "      <th>Avg. Depth (m)</th>\n",
       "      <th>Max. Depth (m)</th>\n",
       "    </tr>\n",
       "  </thead>\n",
       "  <tbody>\n",
       "    <tr>\n",
       "      <th>Arctic</th>\n",
       "      <td>1205.0</td>\n",
       "      <td>5567.0</td>\n",
       "    </tr>\n",
       "    <tr>\n",
       "      <th>Atlantic</th>\n",
       "      <td>3646.0</td>\n",
       "      <td>8486.0</td>\n",
       "    </tr>\n",
       "    <tr>\n",
       "      <th>Indian</th>\n",
       "      <td>3741.0</td>\n",
       "      <td>7906.0</td>\n",
       "    </tr>\n",
       "    <tr>\n",
       "      <th>Pacific</th>\n",
       "      <td>4080.0</td>\n",
       "      <td>10803.0</td>\n",
       "    </tr>\n",
       "    <tr>\n",
       "      <th>Southern</th>\n",
       "      <td>3270.0</td>\n",
       "      <td>7075.0</td>\n",
       "    </tr>\n",
       "  </tbody>\n",
       "</table>\n",
       "</div>"
      ],
      "text/plain": [
       "          Avg. Depth (m)  Max. Depth (m)\n",
       "Arctic            1205.0          5567.0\n",
       "Atlantic          3646.0          8486.0\n",
       "Indian            3741.0          7906.0\n",
       "Pacific           4080.0         10803.0\n",
       "Southern          3270.0          7075.0"
      ]
     },
     "execution_count": 23,
     "metadata": {},
     "output_type": "execute_result"
    }
   ],
   "source": [
    "ocean_depths"
   ]
  },
  {
   "cell_type": "code",
   "execution_count": 24,
   "metadata": {},
   "outputs": [
    {
     "data": {
      "text/html": [
       "<div>\n",
       "<style scoped>\n",
       "    .dataframe tbody tr th:only-of-type {\n",
       "        vertical-align: middle;\n",
       "    }\n",
       "\n",
       "    .dataframe tbody tr th {\n",
       "        vertical-align: top;\n",
       "    }\n",
       "\n",
       "    .dataframe thead th {\n",
       "        text-align: right;\n",
       "    }\n",
       "</style>\n",
       "<table border=\"1\" class=\"dataframe\">\n",
       "  <thead>\n",
       "    <tr style=\"text-align: right;\">\n",
       "      <th></th>\n",
       "      <th>Avg. Depth (m)</th>\n",
       "      <th>Max. Depth (m)</th>\n",
       "    </tr>\n",
       "  </thead>\n",
       "  <tbody>\n",
       "    <tr>\n",
       "      <th>Arctic</th>\n",
       "      <td>1205.0</td>\n",
       "      <td>5567.0</td>\n",
       "    </tr>\n",
       "    <tr>\n",
       "      <th>Atlantic</th>\n",
       "      <td>3646.0</td>\n",
       "      <td>8486.0</td>\n",
       "    </tr>\n",
       "  </tbody>\n",
       "</table>\n",
       "</div>"
      ],
      "text/plain": [
       "          Avg. Depth (m)  Max. Depth (m)\n",
       "Arctic            1205.0          5567.0\n",
       "Atlantic          3646.0          8486.0"
      ]
     },
     "execution_count": 24,
     "metadata": {},
     "output_type": "execute_result"
    }
   ],
   "source": [
    "ocean_depths.head(2)"
   ]
  },
  {
   "cell_type": "code",
   "execution_count": 25,
   "metadata": {},
   "outputs": [
    {
     "data": {
      "text/html": [
       "<div>\n",
       "<style scoped>\n",
       "    .dataframe tbody tr th:only-of-type {\n",
       "        vertical-align: middle;\n",
       "    }\n",
       "\n",
       "    .dataframe tbody tr th {\n",
       "        vertical-align: top;\n",
       "    }\n",
       "\n",
       "    .dataframe thead th {\n",
       "        text-align: right;\n",
       "    }\n",
       "</style>\n",
       "<table border=\"1\" class=\"dataframe\">\n",
       "  <thead>\n",
       "    <tr style=\"text-align: right;\">\n",
       "      <th></th>\n",
       "      <th>Avg. Depth (m)</th>\n",
       "      <th>Max. Depth (m)</th>\n",
       "    </tr>\n",
       "  </thead>\n",
       "  <tbody>\n",
       "    <tr>\n",
       "      <th>Pacific</th>\n",
       "      <td>4080.0</td>\n",
       "      <td>10803.0</td>\n",
       "    </tr>\n",
       "    <tr>\n",
       "      <th>Southern</th>\n",
       "      <td>3270.0</td>\n",
       "      <td>7075.0</td>\n",
       "    </tr>\n",
       "  </tbody>\n",
       "</table>\n",
       "</div>"
      ],
      "text/plain": [
       "          Avg. Depth (m)  Max. Depth (m)\n",
       "Pacific           4080.0         10803.0\n",
       "Southern          3270.0          7075.0"
      ]
     },
     "execution_count": 25,
     "metadata": {},
     "output_type": "execute_result"
    }
   ],
   "source": [
    "ocean_depths.tail(2)"
   ]
  },
  {
   "cell_type": "code",
   "execution_count": 26,
   "metadata": {},
   "outputs": [
    {
     "data": {
      "text/html": [
       "<div>\n",
       "<style scoped>\n",
       "    .dataframe tbody tr th:only-of-type {\n",
       "        vertical-align: middle;\n",
       "    }\n",
       "\n",
       "    .dataframe tbody tr th {\n",
       "        vertical-align: top;\n",
       "    }\n",
       "\n",
       "    .dataframe thead th {\n",
       "        text-align: right;\n",
       "    }\n",
       "</style>\n",
       "<table border=\"1\" class=\"dataframe\">\n",
       "  <thead>\n",
       "    <tr style=\"text-align: right;\">\n",
       "      <th></th>\n",
       "      <th>Avg. Depth (m)</th>\n",
       "      <th>Max. Depth (m)</th>\n",
       "    </tr>\n",
       "  </thead>\n",
       "  <tbody>\n",
       "    <tr>\n",
       "      <th>Pacific</th>\n",
       "      <td>4080.0</td>\n",
       "      <td>10803.0</td>\n",
       "    </tr>\n",
       "    <tr>\n",
       "      <th>Indian</th>\n",
       "      <td>3741.0</td>\n",
       "      <td>7906.0</td>\n",
       "    </tr>\n",
       "    <tr>\n",
       "      <th>Atlantic</th>\n",
       "      <td>3646.0</td>\n",
       "      <td>8486.0</td>\n",
       "    </tr>\n",
       "    <tr>\n",
       "      <th>Southern</th>\n",
       "      <td>3270.0</td>\n",
       "      <td>7075.0</td>\n",
       "    </tr>\n",
       "    <tr>\n",
       "      <th>Arctic</th>\n",
       "      <td>1205.0</td>\n",
       "      <td>5567.0</td>\n",
       "    </tr>\n",
       "  </tbody>\n",
       "</table>\n",
       "</div>"
      ],
      "text/plain": [
       "          Avg. Depth (m)  Max. Depth (m)\n",
       "Pacific           4080.0         10803.0\n",
       "Indian            3741.0          7906.0\n",
       "Atlantic          3646.0          8486.0\n",
       "Southern          3270.0          7075.0\n",
       "Arctic            1205.0          5567.0"
      ]
     },
     "execution_count": 26,
     "metadata": {},
     "output_type": "execute_result"
    }
   ],
   "source": [
    "ocean_depths.sort_values('Avg. Depth (m)', ascending=False)"
   ]
  },
  {
   "cell_type": "code",
   "execution_count": 27,
   "metadata": {},
   "outputs": [
    {
     "data": {
      "text/html": [
       "<div>\n",
       "<style scoped>\n",
       "    .dataframe tbody tr th:only-of-type {\n",
       "        vertical-align: middle;\n",
       "    }\n",
       "\n",
       "    .dataframe tbody tr th {\n",
       "        vertical-align: top;\n",
       "    }\n",
       "\n",
       "    .dataframe thead th {\n",
       "        text-align: right;\n",
       "    }\n",
       "</style>\n",
       "<table border=\"1\" class=\"dataframe\">\n",
       "  <thead>\n",
       "    <tr style=\"text-align: right;\">\n",
       "      <th></th>\n",
       "      <th>Avg. Depth (m)</th>\n",
       "      <th>Max. Depth (m)</th>\n",
       "    </tr>\n",
       "  </thead>\n",
       "  <tbody>\n",
       "    <tr>\n",
       "      <th>Southern</th>\n",
       "      <td>3270.0</td>\n",
       "      <td>7075.0</td>\n",
       "    </tr>\n",
       "    <tr>\n",
       "      <th>Pacific</th>\n",
       "      <td>4080.0</td>\n",
       "      <td>10803.0</td>\n",
       "    </tr>\n",
       "    <tr>\n",
       "      <th>Indian</th>\n",
       "      <td>3741.0</td>\n",
       "      <td>7906.0</td>\n",
       "    </tr>\n",
       "    <tr>\n",
       "      <th>Atlantic</th>\n",
       "      <td>3646.0</td>\n",
       "      <td>8486.0</td>\n",
       "    </tr>\n",
       "    <tr>\n",
       "      <th>Arctic</th>\n",
       "      <td>1205.0</td>\n",
       "      <td>5567.0</td>\n",
       "    </tr>\n",
       "  </tbody>\n",
       "</table>\n",
       "</div>"
      ],
      "text/plain": [
       "          Avg. Depth (m)  Max. Depth (m)\n",
       "Southern          3270.0          7075.0\n",
       "Pacific           4080.0         10803.0\n",
       "Indian            3741.0          7906.0\n",
       "Atlantic          3646.0          8486.0\n",
       "Arctic            1205.0          5567.0"
      ]
     },
     "execution_count": 27,
     "metadata": {},
     "output_type": "execute_result"
    }
   ],
   "source": [
    "ocean_depths.sort_index(ascending = False)"
   ]
  },
  {
   "cell_type": "code",
   "execution_count": 28,
   "metadata": {},
   "outputs": [
    {
     "data": {
      "text/plain": [
       "Frozen\n",
       "False    3\n",
       "True     2\n",
       "dtype: int64"
      ]
     },
     "execution_count": 28,
     "metadata": {},
     "output_type": "execute_result"
    }
   ],
   "source": [
    "ocean_depths['Frozen'] = [True, False, False, False, True]\n",
    "ocean_depths.groupby(\"Frozen\").size()"
   ]
  },
  {
   "cell_type": "code",
   "execution_count": 29,
   "metadata": {},
   "outputs": [
    {
     "data": {
      "text/html": [
       "<div>\n",
       "<style scoped>\n",
       "    .dataframe tbody tr th:only-of-type {\n",
       "        vertical-align: middle;\n",
       "    }\n",
       "\n",
       "    .dataframe tbody tr th {\n",
       "        vertical-align: top;\n",
       "    }\n",
       "\n",
       "    .dataframe thead th {\n",
       "        text-align: right;\n",
       "    }\n",
       "</style>\n",
       "<table border=\"1\" class=\"dataframe\">\n",
       "  <thead>\n",
       "    <tr style=\"text-align: right;\">\n",
       "      <th></th>\n",
       "      <th>Avg. Depth (m)</th>\n",
       "      <th>Max. Depth (m)</th>\n",
       "      <th>Frozen</th>\n",
       "    </tr>\n",
       "  </thead>\n",
       "  <tbody>\n",
       "    <tr>\n",
       "      <th>Arctic</th>\n",
       "      <td>1205.0</td>\n",
       "      <td>5567.0</td>\n",
       "      <td>True</td>\n",
       "    </tr>\n",
       "    <tr>\n",
       "      <th>Atlantic</th>\n",
       "      <td>3646.0</td>\n",
       "      <td>8486.0</td>\n",
       "      <td>False</td>\n",
       "    </tr>\n",
       "    <tr>\n",
       "      <th>Indian</th>\n",
       "      <td>3741.0</td>\n",
       "      <td>7906.0</td>\n",
       "      <td>False</td>\n",
       "    </tr>\n",
       "    <tr>\n",
       "      <th>Pacific</th>\n",
       "      <td>4080.0</td>\n",
       "      <td>10803.0</td>\n",
       "      <td>False</td>\n",
       "    </tr>\n",
       "    <tr>\n",
       "      <th>Southern</th>\n",
       "      <td>3270.0</td>\n",
       "      <td>7075.0</td>\n",
       "      <td>True</td>\n",
       "    </tr>\n",
       "  </tbody>\n",
       "</table>\n",
       "</div>"
      ],
      "text/plain": [
       "          Avg. Depth (m)  Max. Depth (m)  Frozen\n",
       "Arctic            1205.0          5567.0    True\n",
       "Atlantic          3646.0          8486.0   False\n",
       "Indian            3741.0          7906.0   False\n",
       "Pacific           4080.0         10803.0   False\n",
       "Southern          3270.0          7075.0    True"
      ]
     },
     "execution_count": 29,
     "metadata": {},
     "output_type": "execute_result"
    }
   ],
   "source": [
    "ocean_depths"
   ]
  },
  {
   "cell_type": "code",
   "execution_count": 30,
   "metadata": {},
   "outputs": [
    {
     "data": {
      "text/html": [
       "<div>\n",
       "<style scoped>\n",
       "    .dataframe tbody tr th:only-of-type {\n",
       "        vertical-align: middle;\n",
       "    }\n",
       "\n",
       "    .dataframe tbody tr th {\n",
       "        vertical-align: top;\n",
       "    }\n",
       "\n",
       "    .dataframe thead th {\n",
       "        text-align: right;\n",
       "    }\n",
       "</style>\n",
       "<table border=\"1\" class=\"dataframe\">\n",
       "  <thead>\n",
       "    <tr style=\"text-align: right;\">\n",
       "      <th></th>\n",
       "      <th>Avg. Depth (m)</th>\n",
       "      <th>Max. Depth (m)</th>\n",
       "      <th>Frozen</th>\n",
       "    </tr>\n",
       "  </thead>\n",
       "  <tbody>\n",
       "    <tr>\n",
       "      <th>Arctic</th>\n",
       "      <td>False</td>\n",
       "      <td>True</td>\n",
       "      <td>False</td>\n",
       "    </tr>\n",
       "    <tr>\n",
       "      <th>Atlantic</th>\n",
       "      <td>False</td>\n",
       "      <td>False</td>\n",
       "      <td>False</td>\n",
       "    </tr>\n",
       "    <tr>\n",
       "      <th>Indian</th>\n",
       "      <td>False</td>\n",
       "      <td>False</td>\n",
       "      <td>False</td>\n",
       "    </tr>\n",
       "    <tr>\n",
       "      <th>Pacific</th>\n",
       "      <td>False</td>\n",
       "      <td>False</td>\n",
       "      <td>False</td>\n",
       "    </tr>\n",
       "    <tr>\n",
       "      <th>Southern</th>\n",
       "      <td>False</td>\n",
       "      <td>False</td>\n",
       "      <td>False</td>\n",
       "    </tr>\n",
       "  </tbody>\n",
       "</table>\n",
       "</div>"
      ],
      "text/plain": [
       "          Avg. Depth (m)  Max. Depth (m)  Frozen\n",
       "Arctic             False            True   False\n",
       "Atlantic           False           False   False\n",
       "Indian             False           False   False\n",
       "Pacific            False           False   False\n",
       "Southern           False           False   False"
      ]
     },
     "execution_count": 30,
     "metadata": {},
     "output_type": "execute_result"
    }
   ],
   "source": [
    "ocean_depths.iloc[0,1]=np.nan  ## vamos assumir que nao sabemos este valor\n",
    "ocean_depths.isnull()"
   ]
  },
  {
   "cell_type": "markdown",
   "metadata": {},
   "source": [
    "A função *describe* é usada para que se tenha uma análise genérica sobre os dados constantes no objeto DataFrame. Esta função retorna a informação seguinte para cada coluna:\n",
    "* **count**: frequencia\n",
    "* **mean**:  média\n",
    "* **std**: desvio padrão\n",
    "* **min**: valor mínimo\n",
    "* **25%**: percentil 25\n",
    "* **50%**: percentil 50 (mediana)\n",
    "* **75%**: percentil 75\n",
    "* **max**: valor maximo"
   ]
  },
  {
   "cell_type": "code",
   "execution_count": 31,
   "metadata": {},
   "outputs": [
    {
     "data": {
      "text/html": [
       "<div>\n",
       "<style scoped>\n",
       "    .dataframe tbody tr th:only-of-type {\n",
       "        vertical-align: middle;\n",
       "    }\n",
       "\n",
       "    .dataframe tbody tr th {\n",
       "        vertical-align: top;\n",
       "    }\n",
       "\n",
       "    .dataframe thead th {\n",
       "        text-align: right;\n",
       "    }\n",
       "</style>\n",
       "<table border=\"1\" class=\"dataframe\">\n",
       "  <thead>\n",
       "    <tr style=\"text-align: right;\">\n",
       "      <th></th>\n",
       "      <th>Avg. Depth (m)</th>\n",
       "      <th>Max. Depth (m)</th>\n",
       "    </tr>\n",
       "  </thead>\n",
       "  <tbody>\n",
       "    <tr>\n",
       "      <th>count</th>\n",
       "      <td>5.000000</td>\n",
       "      <td>4.000000</td>\n",
       "    </tr>\n",
       "    <tr>\n",
       "      <th>mean</th>\n",
       "      <td>3188.400000</td>\n",
       "      <td>8567.500000</td>\n",
       "    </tr>\n",
       "    <tr>\n",
       "      <th>std</th>\n",
       "      <td>1145.671113</td>\n",
       "      <td>1598.878878</td>\n",
       "    </tr>\n",
       "    <tr>\n",
       "      <th>min</th>\n",
       "      <td>1205.000000</td>\n",
       "      <td>7075.000000</td>\n",
       "    </tr>\n",
       "    <tr>\n",
       "      <th>25%</th>\n",
       "      <td>3270.000000</td>\n",
       "      <td>7698.250000</td>\n",
       "    </tr>\n",
       "    <tr>\n",
       "      <th>50%</th>\n",
       "      <td>3646.000000</td>\n",
       "      <td>8196.000000</td>\n",
       "    </tr>\n",
       "    <tr>\n",
       "      <th>75%</th>\n",
       "      <td>3741.000000</td>\n",
       "      <td>9065.250000</td>\n",
       "    </tr>\n",
       "    <tr>\n",
       "      <th>max</th>\n",
       "      <td>4080.000000</td>\n",
       "      <td>10803.000000</td>\n",
       "    </tr>\n",
       "  </tbody>\n",
       "</table>\n",
       "</div>"
      ],
      "text/plain": [
       "       Avg. Depth (m)  Max. Depth (m)\n",
       "count        5.000000        4.000000\n",
       "mean      3188.400000     8567.500000\n",
       "std       1145.671113     1598.878878\n",
       "min       1205.000000     7075.000000\n",
       "25%       3270.000000     7698.250000\n",
       "50%       3646.000000     8196.000000\n",
       "75%       3741.000000     9065.250000\n",
       "max       4080.000000    10803.000000"
      ]
     },
     "execution_count": 31,
     "metadata": {},
     "output_type": "execute_result"
    }
   ],
   "source": [
    "ocean_depths.describe() # NOTA: o elemento Nan é ignorado nas estatisticas"
   ]
  },
  {
   "cell_type": "code",
   "execution_count": 32,
   "metadata": {},
   "outputs": [
    {
     "name": "stdout",
     "output_type": "stream",
     "text": [
      "Arctic\n",
      "Avg. Depth (m)    1205\n",
      "Max. Depth (m)     NaN\n",
      "Frozen            True\n",
      "Name: Arctic, dtype: object\n",
      "-------\n",
      "Atlantic\n",
      "Avg. Depth (m)     3646\n",
      "Max. Depth (m)     8486\n",
      "Frozen            False\n",
      "Name: Atlantic, dtype: object\n",
      "-------\n",
      "Indian\n",
      "Avg. Depth (m)     3741\n",
      "Max. Depth (m)     7906\n",
      "Frozen            False\n",
      "Name: Indian, dtype: object\n",
      "-------\n",
      "Pacific\n",
      "Avg. Depth (m)     4080\n",
      "Max. Depth (m)    10803\n",
      "Frozen            False\n",
      "Name: Pacific, dtype: object\n",
      "-------\n",
      "Southern\n",
      "Avg. Depth (m)    3270\n",
      "Max. Depth (m)    7075\n",
      "Frozen            True\n",
      "Name: Southern, dtype: object\n",
      "-------\n"
     ]
    }
   ],
   "source": [
    "for a,b in ocean_depths.iterrows():\n",
    "    print(a) \n",
    "    print(b)\n",
    "    print(\"-------\")\n"
   ]
  },
  {
   "cell_type": "markdown",
   "metadata": {},
   "source": [
    "### Seleção de dados\n",
    "Semelhante ao apresentado anteriormente para objetos do tipo Series. Exemplos de como selecionar dados de um DataFrame."
   ]
  },
  {
   "cell_type": "code",
   "execution_count": 33,
   "metadata": {},
   "outputs": [
    {
     "data": {
      "text/plain": [
       "Arctic       True\n",
       "Atlantic    False\n",
       "Indian      False\n",
       "Pacific     False\n",
       "Southern     True\n",
       "Name: Frozen, dtype: bool"
      ]
     },
     "execution_count": 33,
     "metadata": {},
     "output_type": "execute_result"
    }
   ],
   "source": [
    "ocean_depths.Frozen"
   ]
  },
  {
   "cell_type": "code",
   "execution_count": 34,
   "metadata": {},
   "outputs": [
    {
     "data": {
      "text/html": [
       "<div>\n",
       "<style scoped>\n",
       "    .dataframe tbody tr th:only-of-type {\n",
       "        vertical-align: middle;\n",
       "    }\n",
       "\n",
       "    .dataframe tbody tr th {\n",
       "        vertical-align: top;\n",
       "    }\n",
       "\n",
       "    .dataframe thead th {\n",
       "        text-align: right;\n",
       "    }\n",
       "</style>\n",
       "<table border=\"1\" class=\"dataframe\">\n",
       "  <thead>\n",
       "    <tr style=\"text-align: right;\">\n",
       "      <th></th>\n",
       "      <th>Avg. Depth (m)</th>\n",
       "      <th>Max. Depth (m)</th>\n",
       "      <th>Frozen</th>\n",
       "    </tr>\n",
       "  </thead>\n",
       "  <tbody>\n",
       "    <tr>\n",
       "      <th>Atlantic</th>\n",
       "      <td>3646.0</td>\n",
       "      <td>8486.0</td>\n",
       "      <td>False</td>\n",
       "    </tr>\n",
       "    <tr>\n",
       "      <th>Indian</th>\n",
       "      <td>3741.0</td>\n",
       "      <td>7906.0</td>\n",
       "      <td>False</td>\n",
       "    </tr>\n",
       "    <tr>\n",
       "      <th>Pacific</th>\n",
       "      <td>4080.0</td>\n",
       "      <td>10803.0</td>\n",
       "      <td>False</td>\n",
       "    </tr>\n",
       "  </tbody>\n",
       "</table>\n",
       "</div>"
      ],
      "text/plain": [
       "          Avg. Depth (m)  Max. Depth (m)  Frozen\n",
       "Atlantic          3646.0          8486.0   False\n",
       "Indian            3741.0          7906.0   False\n",
       "Pacific           4080.0         10803.0   False"
      ]
     },
     "execution_count": 34,
     "metadata": {},
     "output_type": "execute_result"
    }
   ],
   "source": [
    "ocean_depths.loc['Atlantic':'Pacific',:]\n"
   ]
  },
  {
   "cell_type": "code",
   "execution_count": 35,
   "metadata": {},
   "outputs": [
    {
     "data": {
      "text/html": [
       "<div>\n",
       "<style scoped>\n",
       "    .dataframe tbody tr th:only-of-type {\n",
       "        vertical-align: middle;\n",
       "    }\n",
       "\n",
       "    .dataframe tbody tr th {\n",
       "        vertical-align: top;\n",
       "    }\n",
       "\n",
       "    .dataframe thead th {\n",
       "        text-align: right;\n",
       "    }\n",
       "</style>\n",
       "<table border=\"1\" class=\"dataframe\">\n",
       "  <thead>\n",
       "    <tr style=\"text-align: right;\">\n",
       "      <th></th>\n",
       "      <th>Frozen</th>\n",
       "    </tr>\n",
       "  </thead>\n",
       "  <tbody>\n",
       "    <tr>\n",
       "      <th>Arctic</th>\n",
       "      <td>True</td>\n",
       "    </tr>\n",
       "    <tr>\n",
       "      <th>Atlantic</th>\n",
       "      <td>False</td>\n",
       "    </tr>\n",
       "    <tr>\n",
       "      <th>Indian</th>\n",
       "      <td>False</td>\n",
       "    </tr>\n",
       "    <tr>\n",
       "      <th>Pacific</th>\n",
       "      <td>False</td>\n",
       "    </tr>\n",
       "    <tr>\n",
       "      <th>Southern</th>\n",
       "      <td>True</td>\n",
       "    </tr>\n",
       "  </tbody>\n",
       "</table>\n",
       "</div>"
      ],
      "text/plain": [
       "          Frozen\n",
       "Arctic      True\n",
       "Atlantic   False\n",
       "Indian     False\n",
       "Pacific    False\n",
       "Southern    True"
      ]
     },
     "execution_count": 35,
     "metadata": {},
     "output_type": "execute_result"
    }
   ],
   "source": [
    "ocean_depths.loc[:,['Frozen']] # para que a continue a ser um DataFrame, Frozen tem de estar dentro de uma lista, se não passa a ser Series\n"
   ]
  },
  {
   "cell_type": "code",
   "execution_count": 36,
   "metadata": {},
   "outputs": [
    {
     "name": "stdout",
     "output_type": "stream",
     "text": [
      "Arctic       True\n",
      "Atlantic    False\n",
      "Indian      False\n",
      "Pacific     False\n",
      "Southern     True\n",
      "Name: Frozen, dtype: bool\n",
      "<class 'pandas.core.series.Series'>\n"
     ]
    }
   ],
   "source": [
    "x = ocean_depths.loc[:,'Frozen']\n",
    "print(x)\n",
    "print(type(x))"
   ]
  },
  {
   "cell_type": "code",
   "execution_count": 37,
   "metadata": {},
   "outputs": [
    {
     "data": {
      "text/html": [
       "<div>\n",
       "<style scoped>\n",
       "    .dataframe tbody tr th:only-of-type {\n",
       "        vertical-align: middle;\n",
       "    }\n",
       "\n",
       "    .dataframe tbody tr th {\n",
       "        vertical-align: top;\n",
       "    }\n",
       "\n",
       "    .dataframe thead th {\n",
       "        text-align: right;\n",
       "    }\n",
       "</style>\n",
       "<table border=\"1\" class=\"dataframe\">\n",
       "  <thead>\n",
       "    <tr style=\"text-align: right;\">\n",
       "      <th></th>\n",
       "      <th>Avg. Depth (m)</th>\n",
       "      <th>Max. Depth (m)</th>\n",
       "    </tr>\n",
       "  </thead>\n",
       "  <tbody>\n",
       "    <tr>\n",
       "      <th>Arctic</th>\n",
       "      <td>1205.0</td>\n",
       "      <td>NaN</td>\n",
       "    </tr>\n",
       "    <tr>\n",
       "      <th>Atlantic</th>\n",
       "      <td>3646.0</td>\n",
       "      <td>8486.0</td>\n",
       "    </tr>\n",
       "  </tbody>\n",
       "</table>\n",
       "</div>"
      ],
      "text/plain": [
       "          Avg. Depth (m)  Max. Depth (m)\n",
       "Arctic            1205.0             NaN\n",
       "Atlantic          3646.0          8486.0"
      ]
     },
     "execution_count": 37,
     "metadata": {},
     "output_type": "execute_result"
    }
   ],
   "source": [
    "ocean_depths.iloc[:2,:-1]"
   ]
  },
  {
   "cell_type": "code",
   "execution_count": 38,
   "metadata": {},
   "outputs": [
    {
     "data": {
      "text/html": [
       "<div>\n",
       "<style scoped>\n",
       "    .dataframe tbody tr th:only-of-type {\n",
       "        vertical-align: middle;\n",
       "    }\n",
       "\n",
       "    .dataframe tbody tr th {\n",
       "        vertical-align: top;\n",
       "    }\n",
       "\n",
       "    .dataframe thead th {\n",
       "        text-align: right;\n",
       "    }\n",
       "</style>\n",
       "<table border=\"1\" class=\"dataframe\">\n",
       "  <thead>\n",
       "    <tr style=\"text-align: right;\">\n",
       "      <th></th>\n",
       "      <th>Avg. Depth (m)</th>\n",
       "      <th>Max. Depth (m)</th>\n",
       "      <th>Frozen</th>\n",
       "    </tr>\n",
       "  </thead>\n",
       "  <tbody>\n",
       "    <tr>\n",
       "      <th>Arctic</th>\n",
       "      <td>1205.0</td>\n",
       "      <td>NaN</td>\n",
       "      <td>True</td>\n",
       "    </tr>\n",
       "    <tr>\n",
       "      <th>Indian</th>\n",
       "      <td>3741.0</td>\n",
       "      <td>7906.0</td>\n",
       "      <td>False</td>\n",
       "    </tr>\n",
       "    <tr>\n",
       "      <th>Southern</th>\n",
       "      <td>3270.0</td>\n",
       "      <td>7075.0</td>\n",
       "      <td>True</td>\n",
       "    </tr>\n",
       "  </tbody>\n",
       "</table>\n",
       "</div>"
      ],
      "text/plain": [
       "          Avg. Depth (m)  Max. Depth (m)  Frozen\n",
       "Arctic            1205.0             NaN    True\n",
       "Indian            3741.0          7906.0   False\n",
       "Southern          3270.0          7075.0    True"
      ]
     },
     "execution_count": 38,
     "metadata": {},
     "output_type": "execute_result"
    }
   ],
   "source": [
    "ocean_depths.iloc[::2,:]"
   ]
  },
  {
   "cell_type": "code",
   "execution_count": 40,
   "metadata": {},
   "outputs": [
    {
     "data": {
      "text/plain": [
       "Arctic       True\n",
       "Atlantic    False\n",
       "Indian      False\n",
       "Pacific     False\n",
       "Southern     True\n",
       "Name: Frozen, dtype: bool"
      ]
     },
     "execution_count": 40,
     "metadata": {},
     "output_type": "execute_result"
    }
   ],
   "source": [
    "ocean_depths[ocean_depths.Frozen == True]\n",
    "ocean_depths.Frozen == True"
   ]
  },
  {
   "cell_type": "code",
   "execution_count": 42,
   "metadata": {},
   "outputs": [
    {
     "data": {
      "text/html": [
       "<div>\n",
       "<style scoped>\n",
       "    .dataframe tbody tr th:only-of-type {\n",
       "        vertical-align: middle;\n",
       "    }\n",
       "\n",
       "    .dataframe tbody tr th {\n",
       "        vertical-align: top;\n",
       "    }\n",
       "\n",
       "    .dataframe thead th {\n",
       "        text-align: right;\n",
       "    }\n",
       "</style>\n",
       "<table border=\"1\" class=\"dataframe\">\n",
       "  <thead>\n",
       "    <tr style=\"text-align: right;\">\n",
       "      <th></th>\n",
       "      <th>Avg. Depth (m)</th>\n",
       "      <th>Max. Depth (m)</th>\n",
       "      <th>Frozen</th>\n",
       "    </tr>\n",
       "  </thead>\n",
       "  <tbody>\n",
       "    <tr>\n",
       "      <th>Atlantic</th>\n",
       "      <td>3646.0</td>\n",
       "      <td>8486.0</td>\n",
       "      <td>False</td>\n",
       "    </tr>\n",
       "    <tr>\n",
       "      <th>Indian</th>\n",
       "      <td>3741.0</td>\n",
       "      <td>7906.0</td>\n",
       "      <td>False</td>\n",
       "    </tr>\n",
       "    <tr>\n",
       "      <th>Pacific</th>\n",
       "      <td>4080.0</td>\n",
       "      <td>10803.0</td>\n",
       "      <td>False</td>\n",
       "    </tr>\n",
       "  </tbody>\n",
       "</table>\n",
       "</div>"
      ],
      "text/plain": [
       "          Avg. Depth (m)  Max. Depth (m)  Frozen\n",
       "Atlantic          3646.0          8486.0   False\n",
       "Indian            3741.0          7906.0   False\n",
       "Pacific           4080.0         10803.0   False"
      ]
     },
     "execution_count": 42,
     "metadata": {},
     "output_type": "execute_result"
    }
   ],
   "source": [
    "ocean_depths[ocean_depths.iloc[:,1]>7500]"
   ]
  },
  {
   "cell_type": "markdown",
   "metadata": {},
   "source": [
    "### Manipulação de DataFrame\n",
    "o Pandas disponibiliza funções que nos permite fazer alterações ao objeto como por exemplo: \n",
    "* insert, drop - adicionar e  remover dados;\n",
    "* append, combine, join, merge - permite juntar dois objetos DataFrame (ver detalhe das funções);\n",
    "* stack, unstack - alteração da estrutura que permite a hierarquização das labels"
   ]
  },
  {
   "cell_type": "code",
   "execution_count": 43,
   "metadata": {},
   "outputs": [
    {
     "data": {
      "text/html": [
       "<div>\n",
       "<style scoped>\n",
       "    .dataframe tbody tr th:only-of-type {\n",
       "        vertical-align: middle;\n",
       "    }\n",
       "\n",
       "    .dataframe tbody tr th {\n",
       "        vertical-align: top;\n",
       "    }\n",
       "\n",
       "    .dataframe thead th {\n",
       "        text-align: right;\n",
       "    }\n",
       "</style>\n",
       "<table border=\"1\" class=\"dataframe\">\n",
       "  <thead>\n",
       "    <tr style=\"text-align: right;\">\n",
       "      <th></th>\n",
       "      <th>Avg. Depth (m)</th>\n",
       "      <th>Max. Depth (m)</th>\n",
       "      <th>Visited</th>\n",
       "      <th>Frozen</th>\n",
       "    </tr>\n",
       "  </thead>\n",
       "  <tbody>\n",
       "    <tr>\n",
       "      <th>Arctic</th>\n",
       "      <td>1205.0</td>\n",
       "      <td>NaN</td>\n",
       "      <td>True</td>\n",
       "      <td>True</td>\n",
       "    </tr>\n",
       "    <tr>\n",
       "      <th>Atlantic</th>\n",
       "      <td>3646.0</td>\n",
       "      <td>8486.0</td>\n",
       "      <td>False</td>\n",
       "      <td>False</td>\n",
       "    </tr>\n",
       "    <tr>\n",
       "      <th>Indian</th>\n",
       "      <td>3741.0</td>\n",
       "      <td>7906.0</td>\n",
       "      <td>True</td>\n",
       "      <td>False</td>\n",
       "    </tr>\n",
       "    <tr>\n",
       "      <th>Pacific</th>\n",
       "      <td>4080.0</td>\n",
       "      <td>10803.0</td>\n",
       "      <td>False</td>\n",
       "      <td>False</td>\n",
       "    </tr>\n",
       "    <tr>\n",
       "      <th>Southern</th>\n",
       "      <td>3270.0</td>\n",
       "      <td>7075.0</td>\n",
       "      <td>True</td>\n",
       "      <td>True</td>\n",
       "    </tr>\n",
       "  </tbody>\n",
       "</table>\n",
       "</div>"
      ],
      "text/plain": [
       "          Avg. Depth (m)  Max. Depth (m)  Visited  Frozen\n",
       "Arctic            1205.0             NaN     True    True\n",
       "Atlantic          3646.0          8486.0    False   False\n",
       "Indian            3741.0          7906.0     True   False\n",
       "Pacific           4080.0         10803.0    False   False\n",
       "Southern          3270.0          7075.0     True    True"
      ]
     },
     "execution_count": 43,
     "metadata": {},
     "output_type": "execute_result"
    }
   ],
   "source": [
    "ocean_inf = ocean_depths.copy()\n",
    "ocean_inf.insert(loc = 2, column=\"Visited\",value = [True,False,True,False,True])\n",
    "ocean_inf"
   ]
  },
  {
   "cell_type": "code",
   "execution_count": 44,
   "metadata": {},
   "outputs": [
    {
     "data": {
      "text/html": [
       "<div>\n",
       "<style scoped>\n",
       "    .dataframe tbody tr th:only-of-type {\n",
       "        vertical-align: middle;\n",
       "    }\n",
       "\n",
       "    .dataframe tbody tr th {\n",
       "        vertical-align: top;\n",
       "    }\n",
       "\n",
       "    .dataframe thead th {\n",
       "        text-align: right;\n",
       "    }\n",
       "</style>\n",
       "<table border=\"1\" class=\"dataframe\">\n",
       "  <thead>\n",
       "    <tr style=\"text-align: right;\">\n",
       "      <th></th>\n",
       "      <th>Avg. Depth (m)</th>\n",
       "      <th>Max. Depth (m)</th>\n",
       "      <th>Visited</th>\n",
       "      <th>Frozen</th>\n",
       "    </tr>\n",
       "  </thead>\n",
       "  <tbody>\n",
       "    <tr>\n",
       "      <th>Atlantic</th>\n",
       "      <td>3646.0</td>\n",
       "      <td>8486.0</td>\n",
       "      <td>False</td>\n",
       "      <td>False</td>\n",
       "    </tr>\n",
       "    <tr>\n",
       "      <th>Indian</th>\n",
       "      <td>3741.0</td>\n",
       "      <td>7906.0</td>\n",
       "      <td>True</td>\n",
       "      <td>False</td>\n",
       "    </tr>\n",
       "    <tr>\n",
       "      <th>Pacific</th>\n",
       "      <td>4080.0</td>\n",
       "      <td>10803.0</td>\n",
       "      <td>False</td>\n",
       "      <td>False</td>\n",
       "    </tr>\n",
       "    <tr>\n",
       "      <th>Southern</th>\n",
       "      <td>3270.0</td>\n",
       "      <td>7075.0</td>\n",
       "      <td>True</td>\n",
       "      <td>True</td>\n",
       "    </tr>\n",
       "  </tbody>\n",
       "</table>\n",
       "</div>"
      ],
      "text/plain": [
       "          Avg. Depth (m)  Max. Depth (m)  Visited  Frozen\n",
       "Atlantic          3646.0          8486.0    False   False\n",
       "Indian            3741.0          7906.0     True   False\n",
       "Pacific           4080.0         10803.0    False   False\n",
       "Southern          3270.0          7075.0     True    True"
      ]
     },
     "execution_count": 44,
     "metadata": {},
     "output_type": "execute_result"
    }
   ],
   "source": [
    "ocean_inf.drop(['Arctic'])\n"
   ]
  },
  {
   "cell_type": "code",
   "execution_count": 45,
   "metadata": {},
   "outputs": [
    {
     "name": "stdout",
     "output_type": "stream",
     "text": [
      "   A  B\n",
      "a  1  2\n",
      "b  3  4\n",
      "--------\n",
      "   A  B\n",
      "a  5  6\n",
      "b  7  8\n"
     ]
    }
   ],
   "source": [
    "df = pd.DataFrame([[1, 2], [3, 4]], columns=list('AB'), index=['a','b'])\n",
    "df2 = pd.DataFrame([[5, 6], [7, 8]], columns=list('AB'), index=['a','b'])\n",
    "print(df)\n",
    "print(\"--------\")\n",
    "print(df2)"
   ]
  },
  {
   "cell_type": "code",
   "execution_count": 46,
   "metadata": {},
   "outputs": [
    {
     "data": {
      "text/html": [
       "<div>\n",
       "<style scoped>\n",
       "    .dataframe tbody tr th:only-of-type {\n",
       "        vertical-align: middle;\n",
       "    }\n",
       "\n",
       "    .dataframe tbody tr th {\n",
       "        vertical-align: top;\n",
       "    }\n",
       "\n",
       "    .dataframe thead th {\n",
       "        text-align: right;\n",
       "    }\n",
       "</style>\n",
       "<table border=\"1\" class=\"dataframe\">\n",
       "  <thead>\n",
       "    <tr style=\"text-align: right;\">\n",
       "      <th></th>\n",
       "      <th>A</th>\n",
       "      <th>B</th>\n",
       "    </tr>\n",
       "  </thead>\n",
       "  <tbody>\n",
       "    <tr>\n",
       "      <th>a</th>\n",
       "      <td>1</td>\n",
       "      <td>2</td>\n",
       "    </tr>\n",
       "    <tr>\n",
       "      <th>b</th>\n",
       "      <td>3</td>\n",
       "      <td>4</td>\n",
       "    </tr>\n",
       "    <tr>\n",
       "      <th>a</th>\n",
       "      <td>5</td>\n",
       "      <td>6</td>\n",
       "    </tr>\n",
       "    <tr>\n",
       "      <th>b</th>\n",
       "      <td>7</td>\n",
       "      <td>8</td>\n",
       "    </tr>\n",
       "  </tbody>\n",
       "</table>\n",
       "</div>"
      ],
      "text/plain": [
       "   A  B\n",
       "a  1  2\n",
       "b  3  4\n",
       "a  5  6\n",
       "b  7  8"
      ]
     },
     "execution_count": 46,
     "metadata": {},
     "output_type": "execute_result"
    }
   ],
   "source": [
    "df3 = (df.append(df2))\n",
    "df3"
   ]
  },
  {
   "cell_type": "code",
   "execution_count": 47,
   "metadata": {},
   "outputs": [
    {
     "data": {
      "text/html": [
       "<div>\n",
       "<style scoped>\n",
       "    .dataframe tbody tr th:only-of-type {\n",
       "        vertical-align: middle;\n",
       "    }\n",
       "\n",
       "    .dataframe tbody tr th {\n",
       "        vertical-align: top;\n",
       "    }\n",
       "\n",
       "    .dataframe thead th {\n",
       "        text-align: right;\n",
       "    }\n",
       "</style>\n",
       "<table border=\"1\" class=\"dataframe\">\n",
       "  <thead>\n",
       "    <tr style=\"text-align: right;\">\n",
       "      <th></th>\n",
       "      <th>A_df</th>\n",
       "      <th>B_df</th>\n",
       "      <th>A_df2</th>\n",
       "      <th>B_df2</th>\n",
       "    </tr>\n",
       "  </thead>\n",
       "  <tbody>\n",
       "    <tr>\n",
       "      <th>a</th>\n",
       "      <td>1</td>\n",
       "      <td>2</td>\n",
       "      <td>5</td>\n",
       "      <td>6</td>\n",
       "    </tr>\n",
       "    <tr>\n",
       "      <th>b</th>\n",
       "      <td>3</td>\n",
       "      <td>4</td>\n",
       "      <td>7</td>\n",
       "      <td>8</td>\n",
       "    </tr>\n",
       "  </tbody>\n",
       "</table>\n",
       "</div>"
      ],
      "text/plain": [
       "   A_df  B_df  A_df2  B_df2\n",
       "a     1     2      5      6\n",
       "b     3     4      7      8"
      ]
     },
     "execution_count": 47,
     "metadata": {},
     "output_type": "execute_result"
    }
   ],
   "source": [
    "df.join(df2, lsuffix='_df', rsuffix='_df2')"
   ]
  },
  {
   "cell_type": "code",
   "execution_count": 48,
   "metadata": {},
   "outputs": [
    {
     "data": {
      "text/html": [
       "<div>\n",
       "<style scoped>\n",
       "    .dataframe tbody tr th:only-of-type {\n",
       "        vertical-align: middle;\n",
       "    }\n",
       "\n",
       "    .dataframe tbody tr th {\n",
       "        vertical-align: top;\n",
       "    }\n",
       "\n",
       "    .dataframe thead th {\n",
       "        text-align: right;\n",
       "    }\n",
       "</style>\n",
       "<table border=\"1\" class=\"dataframe\">\n",
       "  <thead>\n",
       "    <tr style=\"text-align: right;\">\n",
       "      <th></th>\n",
       "      <th>A</th>\n",
       "      <th>B</th>\n",
       "    </tr>\n",
       "  </thead>\n",
       "  <tbody>\n",
       "    <tr>\n",
       "      <th>a</th>\n",
       "      <td>1</td>\n",
       "      <td>2</td>\n",
       "    </tr>\n",
       "    <tr>\n",
       "      <th>a</th>\n",
       "      <td>5</td>\n",
       "      <td>6</td>\n",
       "    </tr>\n",
       "  </tbody>\n",
       "</table>\n",
       "</div>"
      ],
      "text/plain": [
       "   A  B\n",
       "a  1  2\n",
       "a  5  6"
      ]
     },
     "execution_count": 48,
     "metadata": {},
     "output_type": "execute_result"
    }
   ],
   "source": [
    "df3.loc[[\"a\"],:]"
   ]
  },
  {
   "cell_type": "code",
   "execution_count": 49,
   "metadata": {},
   "outputs": [
    {
     "data": {
      "text/plain": [
       "Arctic    Avg. Depth (m)     1205\n",
       "          Visited            True\n",
       "          Frozen             True\n",
       "Atlantic  Avg. Depth (m)     3646\n",
       "          Max. Depth (m)     8486\n",
       "          Visited           False\n",
       "          Frozen            False\n",
       "Indian    Avg. Depth (m)     3741\n",
       "          Max. Depth (m)     7906\n",
       "          Visited            True\n",
       "          Frozen            False\n",
       "Pacific   Avg. Depth (m)     4080\n",
       "          Max. Depth (m)    10803\n",
       "          Visited           False\n",
       "          Frozen            False\n",
       "Southern  Avg. Depth (m)     3270\n",
       "          Max. Depth (m)     7075\n",
       "          Visited            True\n",
       "          Frozen             True\n",
       "dtype: object"
      ]
     },
     "execution_count": 49,
     "metadata": {},
     "output_type": "execute_result"
    }
   ],
   "source": [
    "ocean_inf.stack()"
   ]
  },
  {
   "cell_type": "code",
   "execution_count": 51,
   "metadata": {},
   "outputs": [
    {
     "data": {
      "text/html": [
       "<div>\n",
       "<style scoped>\n",
       "    .dataframe tbody tr th:only-of-type {\n",
       "        vertical-align: middle;\n",
       "    }\n",
       "\n",
       "    .dataframe tbody tr th {\n",
       "        vertical-align: top;\n",
       "    }\n",
       "\n",
       "    .dataframe thead th {\n",
       "        text-align: right;\n",
       "    }\n",
       "</style>\n",
       "<table border=\"1\" class=\"dataframe\">\n",
       "  <thead>\n",
       "    <tr style=\"text-align: right;\">\n",
       "      <th>Frozen</th>\n",
       "      <th>False</th>\n",
       "      <th>True</th>\n",
       "    </tr>\n",
       "    <tr>\n",
       "      <th>Visited</th>\n",
       "      <th></th>\n",
       "      <th></th>\n",
       "    </tr>\n",
       "  </thead>\n",
       "  <tbody>\n",
       "    <tr>\n",
       "      <th>False</th>\n",
       "      <td>9644.5</td>\n",
       "      <td>NaN</td>\n",
       "    </tr>\n",
       "    <tr>\n",
       "      <th>True</th>\n",
       "      <td>7906.0</td>\n",
       "      <td>7075.0</td>\n",
       "    </tr>\n",
       "  </tbody>\n",
       "</table>\n",
       "</div>"
      ],
      "text/plain": [
       "Frozen    False   True \n",
       "Visited                \n",
       "False    9644.5     NaN\n",
       "True     7906.0  7075.0"
      ]
     },
     "execution_count": 51,
     "metadata": {},
     "output_type": "execute_result"
    }
   ],
   "source": [
    "pd.pivot_table(ocean_inf, values='Max. Depth (m)', index=['Visited'], \n",
    "               columns=['Frozen'])  "
   ]
  },
  {
   "cell_type": "markdown",
   "metadata": {},
   "source": [
    "Nota: O valor de Max Depth quando os atributos Frozen e Visited são False, é a média dos valores do dataframe original."
   ]
  },
  {
   "cell_type": "code",
   "execution_count": 52,
   "metadata": {},
   "outputs": [
    {
     "data": {
      "text/html": [
       "<div>\n",
       "<style scoped>\n",
       "    .dataframe tbody tr th:only-of-type {\n",
       "        vertical-align: middle;\n",
       "    }\n",
       "\n",
       "    .dataframe tbody tr th {\n",
       "        vertical-align: top;\n",
       "    }\n",
       "\n",
       "    .dataframe thead th {\n",
       "        text-align: right;\n",
       "    }\n",
       "</style>\n",
       "<table border=\"1\" class=\"dataframe\">\n",
       "  <thead>\n",
       "    <tr style=\"text-align: right;\">\n",
       "      <th></th>\n",
       "      <th>Avg. Depth (m)</th>\n",
       "      <th>Max. Depth (m)</th>\n",
       "    </tr>\n",
       "  </thead>\n",
       "  <tbody>\n",
       "    <tr>\n",
       "      <th>Arctic</th>\n",
       "      <td>1205.0</td>\n",
       "      <td>5567.0</td>\n",
       "    </tr>\n",
       "    <tr>\n",
       "      <th>Atlantic</th>\n",
       "      <td>3646.0</td>\n",
       "      <td>8486.0</td>\n",
       "    </tr>\n",
       "    <tr>\n",
       "      <th>Indian</th>\n",
       "      <td>3741.0</td>\n",
       "      <td>7906.0</td>\n",
       "    </tr>\n",
       "    <tr>\n",
       "      <th>Pacific</th>\n",
       "      <td>4080.0</td>\n",
       "      <td>10803.0</td>\n",
       "    </tr>\n",
       "    <tr>\n",
       "      <th>Southern</th>\n",
       "      <td>3270.0</td>\n",
       "      <td>7075.0</td>\n",
       "    </tr>\n",
       "  </tbody>\n",
       "</table>\n",
       "</div>"
      ],
      "text/plain": [
       "          Avg. Depth (m)  Max. Depth (m)\n",
       "Arctic            1205.0          5567.0\n",
       "Atlantic          3646.0          8486.0\n",
       "Indian            3741.0          7906.0\n",
       "Pacific           4080.0         10803.0\n",
       "Southern          3270.0          7075.0"
      ]
     },
     "execution_count": 52,
     "metadata": {},
     "output_type": "execute_result"
    }
   ],
   "source": [
    "#repor o df inicial\n",
    "ocean_depths.iloc[0,1] = 5567\n",
    "ocean_depths = ocean_depths.drop(labels=['Frozen'],axis=1)\n",
    "ocean_depths"
   ]
  },
  {
   "cell_type": "code",
   "execution_count": 53,
   "metadata": {
    "scrolled": false
   },
   "outputs": [
    {
     "data": {
      "text/plain": [
       "<matplotlib.axes._subplots.AxesSubplot at 0x7feebdda0f40>"
      ]
     },
     "execution_count": 53,
     "metadata": {},
     "output_type": "execute_result"
    },
    {
     "data": {
      "image/png": "[encoded data removed]",
      "text/plain": [
       "<Figure size 432x288 with 1 Axes>"
      ]
     },
     "metadata": {
      "needs_background": "light"
     },
     "output_type": "display_data"
    }
   ],
   "source": [
    "%matplotlib inline\n",
    "import matplotlib.pyplot as plt\n",
    "plt.figure();\n",
    "ocean_depths.boxplot()"
   ]
  },
  {
   "cell_type": "code",
   "execution_count": null,
   "metadata": {},
   "outputs": [],
   "source": []
  }
 ],
 "metadata": {
  "anaconda-cloud": {},
  "kernelspec": {
   "display_name": "Python 3 (ipykernel)",
   "language": "python",
   "name": "python3"
  },
  "language_info": {
   "codemirror_mode": {
    "name": "ipython",
    "version": 3
   },
   "file_extension": ".py",
   "mimetype": "text/x-python",
   "name": "python",
   "nbconvert_exporter": "python",
   "pygments_lexer": "ipython3",
   "version": "3.9.7"
  }
 },
 "nbformat": 4,
 "nbformat_minor": 1
}
