{
 "cells": [
  {
   "cell_type": "markdown",
   "metadata": {
    "slideshow": {
     "slide_type": "-"
    }
   },
   "source": [
    "# Introdução ao NumPy\n",
    "NumPy é um package fundamental para a computação científica utilizando Python. Contém, entre outras coisas:\n",
    "* um poderoso objeto de matriz N-dimensional\n",
    "* funções sobre objectos do tipo matriz\n",
    "* ferramentas para integrar C / C ++ e código Fortran\n",
    "* álgebra linear, transformadas de Fourier e números aleatórios\n",
    "\n",
    "NumPy também pode ser usado para armazenar dados multidimensionais de forma eficiente, o que permite uma integração simples e rápida com uma grande variedade de bases de dados.\n",
    "\n",
    "### Arrays em Python\n",
    "A forma usual de utilizar arrays em Python é através do usos de \"[\",\"]\" em que os elementos aparecem separados por \",\"."
   ]
  },
  {
   "cell_type": "code",
   "execution_count": 1,
   "metadata": {},
   "outputs": [
    {
     "data": {
      "text/plain": [
       "[1.73, 1.89, 2.03, 1.61, 1.57, 1.9, 1.73, 1.65, 1.59, 1.65, 1.71, 1.68]"
      ]
     },
     "execution_count": 1,
     "metadata": {},
     "output_type": "execute_result"
    }
   ],
   "source": [
    "alturas = [1.73, 1.89, 2.03, 1.61, 1.57, 1.90, 1.73, 1.65, 1.59, 1.65, 1.71, 1.68]\n",
    "alturas"
   ]
  },
  {
   "cell_type": "code",
   "execution_count": 2,
   "metadata": {},
   "outputs": [
    {
     "data": {
      "text/plain": [
       "list"
      ]
     },
     "execution_count": 2,
     "metadata": {},
     "output_type": "execute_result"
    }
   ],
   "source": [
    "type(alturas)"
   ]
  },
  {
   "cell_type": "code",
   "execution_count": 3,
   "metadata": {},
   "outputs": [
    {
     "data": {
      "text/plain": [
       "[89, 79, 110, 60, 51, 88, 68, 67, 56, 65, 85, 67]"
      ]
     },
     "execution_count": 3,
     "metadata": {},
     "output_type": "execute_result"
    }
   ],
   "source": [
    "pesos = [89, 79, 110, 60, 51, 88, 68, 67, 56, 65, 85, 67]\n",
    "pesos"
   ]
  },
  {
   "cell_type": "markdown",
   "metadata": {},
   "source": [
    "### Importação do package numpy \n",
    "Para ser mais simples a designação do package na chamada de funções, iremos importá-lo atribuindo-lhe a designação np."
   ]
  },
  {
   "cell_type": "code",
   "execution_count": 4,
   "metadata": {},
   "outputs": [],
   "source": [
    "import numpy as np"
   ]
  },
  {
   "cell_type": "markdown",
   "metadata": {},
   "source": [
    "### Class ndarray"
   ]
  },
  {
   "cell_type": "markdown",
   "metadata": {},
   "source": [
    "A classe do package NumPy que implementa o objecto de matriz multidomensional é designada por **ndarray**, também conhecida pelo alias **array**.\n",
    "\n",
    "Os principais atributos deste objecto são:\n",
    "* **ndarray.ndim**: indica o número de  dimensões da matrix. \n",
    "* **ndarray.shape**: indica a dimensão do objecto. Retorna um tuplo em que cada elemento contém o tamanho de cada dimensão.\n",
    "* **ndarray.size**: número de elementos do objecto\n",
    "* **ndarray.dtype**: o tipo de dados. Além dos tipos standard do Python, o package disponibiliza tipos de dados próprios (numpy.int32, numpy.int16, numpy.float64, ...).\n",
    "* **ndarray.itemsize**: tamanho em bytes de cada elemento do array.\n",
    "* **ndarray.data**: contém os elementos do array. Normalmente, o acesso aos valores do array é feito por indexação.  "
   ]
  },
  {
   "cell_type": "code",
   "execution_count": 5,
   "metadata": {},
   "outputs": [
    {
     "data": {
      "text/plain": [
       "array([1.73, 1.89, 2.03, 1.61, 1.57, 1.9 , 1.73, 1.65, 1.59, 1.65, 1.71,\n",
       "       1.68])"
      ]
     },
     "execution_count": 5,
     "metadata": {},
     "output_type": "execute_result"
    }
   ],
   "source": [
    "alturas_np = np.array(alturas)\n",
    "alturas_np"
   ]
  },
  {
   "cell_type": "markdown",
   "metadata": {},
   "source": [
    "Verifica o tipo de dados do objeto alturas_np."
   ]
  },
  {
   "cell_type": "code",
   "execution_count": 6,
   "metadata": {},
   "outputs": [
    {
     "data": {
      "text/plain": [
       "numpy.ndarray"
      ]
     },
     "execution_count": 6,
     "metadata": {},
     "output_type": "execute_result"
    }
   ],
   "source": [
    "type(alturas_np)"
   ]
  },
  {
   "cell_type": "markdown",
   "metadata": {},
   "source": [
    "Imprime os valores presentes em cada um dos atributos do objeto alturas_np."
   ]
  },
  {
   "cell_type": "code",
   "execution_count": 7,
   "metadata": {},
   "outputs": [
    {
     "name": "stdout",
     "output_type": "stream",
     "text": [
      "ndim:  1\n",
      "shape:  (12,)\n",
      "size:  12\n",
      "dtype:  float64\n",
      "itemsize:  8\n"
     ]
    }
   ],
   "source": [
    "print(\"ndim: \", alturas_np.ndim)\n",
    "print(\"shape: \", alturas_np.shape)\n",
    "print(\"size: \", alturas_np.size)\n",
    "print(\"dtype: \", alturas_np.dtype)\n",
    "print(\"itemsize: \", alturas_np.itemsize)"
   ]
  },
  {
   "cell_type": "markdown",
   "metadata": {},
   "source": [
    "### Criação de arrays\n",
    "O array pode ser criado com base numa lista de valores, sendo o tipo de dados inferido com base nos valores que são passados.\n"
   ]
  },
  {
   "cell_type": "code",
   "execution_count": 8,
   "metadata": {},
   "outputs": [
    {
     "name": "stdout",
     "output_type": "stream",
     "text": [
      "int64\n",
      "float64\n",
      "[1.+0.j 2.+0.j 3.+0.j]\n"
     ]
    }
   ],
   "source": [
    "print (np.array([1,2,3]).dtype)\n",
    "print (np.array([1.1,2,3]).dtype)\n",
    "print (np.array([1,2,3],complex))"
   ]
  },
  {
   "cell_type": "markdown",
   "metadata": {},
   "source": [
    "Existem funções disponíveis no package que permitem a criação de matrizes com valores especiais:\n",
    "* **zeros**: todos os valores da matriz terão o valor 0.\n",
    "* **ones**: todos os valores da matriz terão o valor 1.\n",
    "* **empty**: valores iniciais aleatórios.\n",
    "Por omissão as matrizes são criadas com o tipo de dados *float64*"
   ]
  },
  {
   "cell_type": "code",
   "execution_count": 9,
   "metadata": {},
   "outputs": [
    {
     "name": "stdout",
     "output_type": "stream",
     "text": [
      "[[0. 0. 0. 0.]\n",
      " [0. 0. 0. 0.]\n",
      " [0. 0. 0. 0.]]\n",
      "-----------\n",
      "[[1 1 1 1]\n",
      " [1 1 1 1]\n",
      " [1 1 1 1]]\n"
     ]
    }
   ],
   "source": [
    "print (np.zeros((3,4)))\n",
    "print(\"-----------\")\n",
    "print (np.ones((3,4), int))\n"
   ]
  },
  {
   "cell_type": "markdown",
   "metadata": {},
   "source": [
    "Para criar sequências de números, o package fornece a função *arange*, semelhante à função *range* do Python mas em que o resultado é um array em vez de uma lista. Os parâmetros passados à função são: valor inicial, valor final e valor de incremento. Quando, em vez do valor incremental, queremos apenas indicar o número de valores entre o inicio e o fim, é mais aconselhado usar a função *linspace*. \n",
    "As sequências podem ser convertidas em arrays através da função *reshape*."
   ]
  },
  {
   "cell_type": "code",
   "execution_count": 10,
   "metadata": {},
   "outputs": [
    {
     "data": {
      "text/plain": [
       "array([10, 15, 20, 25])"
      ]
     },
     "execution_count": 10,
     "metadata": {},
     "output_type": "execute_result"
    }
   ],
   "source": [
    "np.arange( 10, 30, 5 )"
   ]
  },
  {
   "cell_type": "code",
   "execution_count": 11,
   "metadata": {},
   "outputs": [
    {
     "data": {
      "text/plain": [
       "array([ 0. ,  0.5,  1. ,  1.5,  2. ,  2.5,  3. ,  3.5,  4. ,  4.5,  5. ,\n",
       "        5.5,  6. ,  6.5,  7. ,  7.5,  8. ,  8.5,  9. ,  9.5, 10. ])"
      ]
     },
     "execution_count": 11,
     "metadata": {},
     "output_type": "execute_result"
    }
   ],
   "source": [
    "np.linspace(0,10,21)"
   ]
  },
  {
   "cell_type": "code",
   "execution_count": 12,
   "metadata": {},
   "outputs": [
    {
     "data": {
      "text/plain": [
       "array([[[ 0,  1,  2,  3],\n",
       "        [ 4,  5,  6,  7],\n",
       "        [ 8,  9, 10, 11]],\n",
       "\n",
       "       [[12, 13, 14, 15],\n",
       "        [16, 17, 18, 19],\n",
       "        [20, 21, 22, 23]]])"
      ]
     },
     "execution_count": 12,
     "metadata": {},
     "output_type": "execute_result"
    }
   ],
   "source": [
    "np.arange(24).reshape(2,3,4)"
   ]
  },
  {
   "cell_type": "markdown",
   "metadata": {},
   "source": [
    "É ainda possível construir um array com base numa função através do uso da função *fromfunction*. No exemplo seguinte é construida uma matrix de dimensão 3x3 onde a diagnonal terá o valor booleano TRUE (uma vez que que são as únicas posições da matriz onde os índices de linha e coluna são iguais)"
   ]
  },
  {
   "cell_type": "code",
   "execution_count": 13,
   "metadata": {},
   "outputs": [
    {
     "data": {
      "text/plain": [
       "array([[ True, False, False],\n",
       "       [False,  True, False],\n",
       "       [False, False,  True]])"
      ]
     },
     "execution_count": 13,
     "metadata": {},
     "output_type": "execute_result"
    }
   ],
   "source": [
    "np.fromfunction(lambda i, j: i == j, (3, 3))"
   ]
  },
  {
   "cell_type": "code",
   "execution_count": 14,
   "metadata": {},
   "outputs": [
    {
     "data": {
      "text/plain": [
       "array([[0., 0., 0.],\n",
       "       [0., 1., 2.],\n",
       "       [0., 2., 4.]])"
      ]
     },
     "execution_count": 14,
     "metadata": {},
     "output_type": "execute_result"
    }
   ],
   "source": [
    "np.fromfunction(lambda i, j: i * j, (3, 3))"
   ]
  },
  {
   "cell_type": "markdown",
   "metadata": {},
   "source": [
    "### Seleção e manipulação de valores\n",
    "O acesso aos valores da matriz é efectuado através do indice de cada uma das dimensões. \n",
    "Por exemplo, numa matriz 3x4, para aceder ao 2º elemento da terceira linha faz-se mat[2,1] (os índices começam em 0).\n",
    "\n",
    "Para selecionar intervalos podemos usar \":\"."
   ]
  },
  {
   "cell_type": "code",
   "execution_count": 15,
   "metadata": {},
   "outputs": [
    {
     "name": "stdout",
     "output_type": "stream",
     "text": [
      "[[0.88393399 0.06457687 0.64266283 0.54815621]\n",
      " [0.14767282 0.31325974 0.78489356 0.40069043]\n",
      " [0.19725471 0.76265175 0.19267586 0.05811325]]\n",
      "value: 0.7626517471152987\n"
     ]
    }
   ],
   "source": [
    "mat = np.random.random((3,4))\n",
    "print(mat)\n",
    "print(\"value:\", mat[2,1]) "
   ]
  },
  {
   "cell_type": "code",
   "execution_count": 16,
   "metadata": {},
   "outputs": [
    {
     "data": {
      "text/plain": [
       "array([[0.06457687, 0.64266283],\n",
       "       [0.31325974, 0.78489356]])"
      ]
     },
     "execution_count": 16,
     "metadata": {},
     "output_type": "execute_result"
    }
   ],
   "source": [
    "mat[0:2,1:3]   #colunas 2,3 das linhas 1,2"
   ]
  },
  {
   "cell_type": "code",
   "execution_count": 17,
   "metadata": {},
   "outputs": [
    {
     "name": "stdout",
     "output_type": "stream",
     "text": [
      "[0 1 2 3 4 5 6 7 8 9]\n"
     ]
    },
    {
     "data": {
      "text/plain": [
       "array([-1, -1, -1,  3,  4,  5,  6,  7,  8,  9])"
      ]
     },
     "execution_count": 17,
     "metadata": {},
     "output_type": "execute_result"
    }
   ],
   "source": [
    "v = np.arange(10) \n",
    "print(v)\n",
    "v[:3] = -1\n",
    "v"
   ]
  },
  {
   "cell_type": "markdown",
   "metadata": {},
   "source": [
    "Na seleção de elementos de um array, as reticências (**...**) são usadas para evitar a especificação de todos os elementos do tuplo de indexação. Por exemplo, se tivermos um array de dimensão 5, na seleção de elementos deveriamos indicar 5 indices para selecionar em cada dimensão. Com o uso de ... isso pode ser abreviado, conforme os exemplos seguintes demonstram.\n",
    "```python\n",
    "x[1,2,...] é equivalente a x[1,2,:,:,:]\n",
    "x[...,3]  é equivalente a x[:,:,:,:,3] \n",
    "x[4,...,5,:]  é equivalente a x[4,:,:,5,:].\n",
    "```\n"
   ]
  },
  {
   "cell_type": "markdown",
   "metadata": {},
   "source": [
    "Outra forma de selecionar valores é através de expressões que retornem valores booleanos. No exemplo seguinte selecionamos todos os valores que sejam maiores que 0.5. O resultado será um array com todos os valores da matriz que respeitem a condição."
   ]
  },
  {
   "cell_type": "code",
   "execution_count": 18,
   "metadata": {},
   "outputs": [
    {
     "name": "stdout",
     "output_type": "stream",
     "text": [
      "[[ True False  True  True]\n",
      " [False False  True False]\n",
      " [False  True False False]]\n"
     ]
    },
    {
     "data": {
      "text/plain": [
       "array([0.88393399, 0.64266283, 0.54815621, 0.78489356, 0.76265175])"
      ]
     },
     "execution_count": 18,
     "metadata": {},
     "output_type": "execute_result"
    }
   ],
   "source": [
    "print(mat>0.5)\n",
    "mat[mat>0.5]"
   ]
  },
  {
   "cell_type": "markdown",
   "metadata": {},
   "source": [
    "### Operações aritméticas sobre matrizes/vectores\n",
    "\n",
    "Os operadores aritméticos são aplicados a cada um dos elementos da matriz, posição a posição. Se os arrays aos quais se aplicam operadores aritméticos tiverem dimensões distintas, o mais pequeno é usado múltiplas vezes. Se se tratar de um escalar ele é usado em todas as posições. \n",
    "\n",
    "O operador \\* representa a multiplicação elemento a elemento de arrays. Para efectuar o produto de duas matrizes usa-se a função *dot*."
   ]
  },
  {
   "cell_type": "code",
   "execution_count": 19,
   "metadata": {},
   "outputs": [
    {
     "name": "stdout",
     "output_type": "stream",
     "text": [
      "mat = [[1 2 3]\n",
      " [4 5 6]]\n",
      "vet =  [2 4 6]\n"
     ]
    }
   ],
   "source": [
    "mat = np.arange(1,7).reshape(2,3)\n",
    "vet = np.array([2,4,6])\n",
    "val = 3\n",
    "\n",
    "print(\"mat =\", mat)\n",
    "print(\"vet = \", vet)"
   ]
  },
  {
   "cell_type": "code",
   "execution_count": 20,
   "metadata": {},
   "outputs": [
    {
     "name": "stdout",
     "output_type": "stream",
     "text": [
      "[[0 0 0]\n",
      " [0 0 0]]\n",
      "------\n",
      "[[-1 -2 -3]\n",
      " [ 2  1  0]]\n",
      "------\n",
      "[[ 3  6  9]\n",
      " [12 15 18]]\n"
     ]
    }
   ],
   "source": [
    "print (mat-mat)\n",
    "print (\"------\")\n",
    "print (mat-vet)\n",
    "print (\"------\")\n",
    "print (mat*val)"
   ]
  },
  {
   "cell_type": "code",
   "execution_count": 21,
   "metadata": {},
   "outputs": [
    {
     "name": "stdout",
     "output_type": "stream",
     "text": [
      "[[2 3]\n",
      " [4 5]\n",
      " [6 7]]\n",
      "------\n",
      "[[ 2  8 18]\n",
      " [12 25 42]]\n",
      "------\n",
      "[[28 34]\n",
      " [64 79]]\n"
     ]
    }
   ],
   "source": [
    "mat2 = np.arange(2,8).reshape(3,2)\n",
    "print(mat2)\n",
    "print (\"------\")\n",
    "print (mat*mat2.transpose())  #Nota: tem que se colocar a transposta para que as matrizes fiquem da mesma dimensão (multiplicação é feita elemento a elemento)\n",
    "print (\"------\")\n",
    "print (np.dot(mat,mat2))"
   ]
  },
  {
   "cell_type": "markdown",
   "metadata": {},
   "source": [
    "### Funções \n",
    "\n",
    "O package NumPy contém um conjunto de funções matemáticas, como  **sin**, **cos**, **sqrt**, **exp**,..., que operam sobre cada um dos elementos do array, produzindo como resultado um array de iguais dimensões."
   ]
  },
  {
   "cell_type": "code",
   "execution_count": 22,
   "metadata": {},
   "outputs": [
    {
     "name": "stdout",
     "output_type": "stream",
     "text": [
      "[[ 0.          2.22222222  4.44444444  6.66666667  8.88888889]\n",
      " [11.11111111 13.33333333 15.55555556 17.77777778 20.        ]]\n"
     ]
    },
    {
     "data": {
      "text/plain": [
       "array([[1.00000000e+00, 9.22781435e+00, 8.51525577e+01, 7.85771994e+02,\n",
       "        7.25095809e+03],\n",
       "       [6.69104951e+04, 6.17437627e+05, 5.69759980e+06, 5.25763932e+07,\n",
       "        4.85165195e+08]])"
      ]
     },
     "execution_count": 22,
     "metadata": {},
     "output_type": "execute_result"
    }
   ],
   "source": [
    "mat = np.linspace( 0, 20, 10 ).reshape(2,5)\n",
    "print(mat)\n",
    "np.exp(mat)"
   ]
  },
  {
   "cell_type": "markdown",
   "metadata": {},
   "source": [
    "Funções que podem ser aplicadas sobre uma matriz multidimensional, como por exemplo **sum**, **min**, **max**,**mean** **cumsum**,...,  estão implementadas ao nível da class *ndarray*.\n",
    "Por omissão, estas funções são aplicadas como se a matriz fosse um vetor, ou seja à totalidade dos elementos independentemente da sua posição. \n",
    "Porém, é possível aplicar a uma determinada dimensão através da especificação do parâmetro *axis*."
   ]
  },
  {
   "cell_type": "code",
   "execution_count": 23,
   "metadata": {},
   "outputs": [
    {
     "name": "stdout",
     "output_type": "stream",
     "text": [
      "20.0\n",
      "0.0\n",
      "[11.11111111 13.33333333 15.55555556 17.77777778 20.        ]\n",
      "[ 8.88888889 20.        ]\n"
     ]
    }
   ],
   "source": [
    "print (mat.max())\n",
    "print (mat.min())\n",
    "print (mat.max(axis=0))  # calcula o máximo de cada uma das colunas\n",
    "print (mat.max(axis=1))  # calcula o máximo de cada uma das linhas"
   ]
  },
  {
   "cell_type": "markdown",
   "metadata": {},
   "source": [
    "Outras funções úteis:\n",
    "* **ravel**: converte uma matriz multidimensional num array 1D.\n",
    "* **floor**: converte cada um dos elementos x da matriz para o maior número inteiro i, onde i<= x."
   ]
  },
  {
   "cell_type": "code",
   "execution_count": 24,
   "metadata": {},
   "outputs": [
    {
     "name": "stdout",
     "output_type": "stream",
     "text": [
      "[ 1.2 -0.3  1.9 -2.4]\n",
      "-------\n",
      "[[ 1. -1.]\n",
      " [ 1. -3.]]\n"
     ]
    }
   ],
   "source": [
    "a = np.array([[1.2,-0.3],[1.9,-2.4]])\n",
    "print (np.ravel(a))\n",
    "print (\"-------\")\n",
    "print (np.floor(a))"
   ]
  },
  {
   "cell_type": "markdown",
   "metadata": {},
   "source": [
    "### Stacking e Splicing \n",
    "O package NumPy fornece funções que tornam o processo de juntar matrizes, ou dividir uma matriz em matrizes mais pequenas, simples.\n",
    "Para o efeito existem as funções:\n",
    "* **vstack**: junta os arrays horizontalmente, isto é o número de colunas é aumentado (**column_stack** tem o mesmo comportamento, usado para arrays com 1 dimensão).\n",
    "* **hstack**: junta os arrays verticalmente, isto é o número de linhas é aumentado.\n",
    "* **concatenate**: adiciona os arrays segundo a dimensão (axis) dada pelo utilizador.\n",
    "* **vsplit**: parte um array em sub-arrays de tamanho igual, mantendo o número de colunas. \n",
    "* **hsplit**: parte um array em sub-arrays de tamanho igual, mantendo o número de linhas. \n",
    "* **array_split**: divide o array segundo a dimensão (axis) dada pelo utilizador.\n",
    "\n",
    "**Nota**: Se os arrays resultantes não tiverem o mesmo tamanho, a divisão terá de ser realizada por indicação do índice onde o \"corte\" deve ocorrer. Nas funções **hstack** e **vstack** as dimensões dos arrays devem ser iguais."
   ]
  },
  {
   "cell_type": "code",
   "execution_count": 25,
   "metadata": {},
   "outputs": [
    {
     "name": "stdout",
     "output_type": "stream",
     "text": [
      "[[0 1 2]\n",
      " [3 4 5]]\n",
      "[[ 6  7  8]\n",
      " [ 9 10 11]]\n"
     ]
    }
   ],
   "source": [
    "a = np.arange(6).reshape(2, 3)\n",
    "\n",
    "b = np.arange(6,12).reshape(2, 3)\n",
    "print (a)\n",
    "print (b)\n"
   ]
  },
  {
   "cell_type": "code",
   "execution_count": 26,
   "metadata": {},
   "outputs": [
    {
     "data": {
      "text/plain": [
       "array([[ 0,  1,  2,  6,  7,  8],\n",
       "       [ 3,  4,  5,  9, 10, 11]])"
      ]
     },
     "execution_count": 26,
     "metadata": {},
     "output_type": "execute_result"
    }
   ],
   "source": [
    "np.hstack((a,b))"
   ]
  },
  {
   "cell_type": "code",
   "execution_count": 27,
   "metadata": {},
   "outputs": [
    {
     "data": {
      "text/plain": [
       "array([[ 0,  1,  2],\n",
       "       [ 3,  4,  5],\n",
       "       [ 6,  7,  8],\n",
       "       [ 9, 10, 11]])"
      ]
     },
     "execution_count": 27,
     "metadata": {},
     "output_type": "execute_result"
    }
   ],
   "source": [
    "np.vstack((a,b))"
   ]
  },
  {
   "cell_type": "code",
   "execution_count": 28,
   "metadata": {},
   "outputs": [
    {
     "data": {
      "text/plain": [
       "[array([[0, 1, 2]]), array([[3, 4, 5]])]"
      ]
     },
     "execution_count": 28,
     "metadata": {},
     "output_type": "execute_result"
    }
   ],
   "source": [
    "np.vsplit(a,2)"
   ]
  },
  {
   "cell_type": "code",
   "execution_count": 29,
   "metadata": {},
   "outputs": [
    {
     "ename": "ValueError",
     "evalue": "array split does not result in an equal division",
     "output_type": "error",
     "traceback": [
      "\u001b[0;31m---------------------------------------------------------------------------\u001b[0m",
      "\u001b[0;31mTypeError\u001b[0m                                 Traceback (most recent call last)",
      "\u001b[0;32m/opt/anaconda3/lib/python3.7/site-packages/numpy/lib/shape_base.py\u001b[0m in \u001b[0;36msplit\u001b[0;34m(ary, indices_or_sections, axis)\u001b[0m\n\u001b[1;32m    864\u001b[0m     \u001b[0;32mtry\u001b[0m\u001b[0;34m:\u001b[0m\u001b[0;34m\u001b[0m\u001b[0;34m\u001b[0m\u001b[0m\n\u001b[0;32m--> 865\u001b[0;31m         \u001b[0mlen\u001b[0m\u001b[0;34m(\u001b[0m\u001b[0mindices_or_sections\u001b[0m\u001b[0;34m)\u001b[0m\u001b[0;34m\u001b[0m\u001b[0;34m\u001b[0m\u001b[0m\n\u001b[0m\u001b[1;32m    866\u001b[0m     \u001b[0;32mexcept\u001b[0m \u001b[0mTypeError\u001b[0m\u001b[0;34m:\u001b[0m\u001b[0;34m\u001b[0m\u001b[0;34m\u001b[0m\u001b[0m\n",
      "\u001b[0;31mTypeError\u001b[0m: object of type 'int' has no len()",
      "\nDuring handling of the above exception, another exception occurred:\n",
      "\u001b[0;31mValueError\u001b[0m                                Traceback (most recent call last)",
      "\u001b[0;32m<ipython-input-29-8799d00db554>\u001b[0m in \u001b[0;36m<module>\u001b[0;34m\u001b[0m\n\u001b[0;32m----> 1\u001b[0;31m \u001b[0mnp\u001b[0m\u001b[0;34m.\u001b[0m\u001b[0mhsplit\u001b[0m\u001b[0;34m(\u001b[0m\u001b[0ma\u001b[0m\u001b[0;34m,\u001b[0m \u001b[0;36m2\u001b[0m\u001b[0;34m)\u001b[0m   \u001b[0;31m# não funciona porque os sub-arrays resultantes serão de tamanho diferente\u001b[0m\u001b[0;34m\u001b[0m\u001b[0;34m\u001b[0m\u001b[0m\n\u001b[0m",
      "\u001b[0;32m<__array_function__ internals>\u001b[0m in \u001b[0;36mhsplit\u001b[0;34m(*args, **kwargs)\u001b[0m\n",
      "\u001b[0;32m/opt/anaconda3/lib/python3.7/site-packages/numpy/lib/shape_base.py\u001b[0m in \u001b[0;36mhsplit\u001b[0;34m(ary, indices_or_sections)\u001b[0m\n\u001b[1;32m    936\u001b[0m         \u001b[0;32mraise\u001b[0m \u001b[0mValueError\u001b[0m\u001b[0;34m(\u001b[0m\u001b[0;34m'hsplit only works on arrays of 1 or more dimensions'\u001b[0m\u001b[0;34m)\u001b[0m\u001b[0;34m\u001b[0m\u001b[0;34m\u001b[0m\u001b[0m\n\u001b[1;32m    937\u001b[0m     \u001b[0;32mif\u001b[0m \u001b[0mary\u001b[0m\u001b[0;34m.\u001b[0m\u001b[0mndim\u001b[0m \u001b[0;34m>\u001b[0m \u001b[0;36m1\u001b[0m\u001b[0;34m:\u001b[0m\u001b[0;34m\u001b[0m\u001b[0;34m\u001b[0m\u001b[0m\n\u001b[0;32m--> 938\u001b[0;31m         \u001b[0;32mreturn\u001b[0m \u001b[0msplit\u001b[0m\u001b[0;34m(\u001b[0m\u001b[0mary\u001b[0m\u001b[0;34m,\u001b[0m \u001b[0mindices_or_sections\u001b[0m\u001b[0;34m,\u001b[0m \u001b[0;36m1\u001b[0m\u001b[0;34m)\u001b[0m\u001b[0;34m\u001b[0m\u001b[0;34m\u001b[0m\u001b[0m\n\u001b[0m\u001b[1;32m    939\u001b[0m     \u001b[0;32melse\u001b[0m\u001b[0;34m:\u001b[0m\u001b[0;34m\u001b[0m\u001b[0;34m\u001b[0m\u001b[0m\n\u001b[1;32m    940\u001b[0m         \u001b[0;32mreturn\u001b[0m \u001b[0msplit\u001b[0m\u001b[0;34m(\u001b[0m\u001b[0mary\u001b[0m\u001b[0;34m,\u001b[0m \u001b[0mindices_or_sections\u001b[0m\u001b[0;34m,\u001b[0m \u001b[0;36m0\u001b[0m\u001b[0;34m)\u001b[0m\u001b[0;34m\u001b[0m\u001b[0;34m\u001b[0m\u001b[0m\n",
      "\u001b[0;32m<__array_function__ internals>\u001b[0m in \u001b[0;36msplit\u001b[0;34m(*args, **kwargs)\u001b[0m\n",
      "\u001b[0;32m/opt/anaconda3/lib/python3.7/site-packages/numpy/lib/shape_base.py\u001b[0m in \u001b[0;36msplit\u001b[0;34m(ary, indices_or_sections, axis)\u001b[0m\n\u001b[1;32m    869\u001b[0m         \u001b[0;32mif\u001b[0m \u001b[0mN\u001b[0m \u001b[0;34m%\u001b[0m \u001b[0msections\u001b[0m\u001b[0;34m:\u001b[0m\u001b[0;34m\u001b[0m\u001b[0;34m\u001b[0m\u001b[0m\n\u001b[1;32m    870\u001b[0m             raise ValueError(\n\u001b[0;32m--> 871\u001b[0;31m                 'array split does not result in an equal division')\n\u001b[0m\u001b[1;32m    872\u001b[0m     \u001b[0;32mreturn\u001b[0m \u001b[0marray_split\u001b[0m\u001b[0;34m(\u001b[0m\u001b[0mary\u001b[0m\u001b[0;34m,\u001b[0m \u001b[0mindices_or_sections\u001b[0m\u001b[0;34m,\u001b[0m \u001b[0maxis\u001b[0m\u001b[0;34m)\u001b[0m\u001b[0;34m\u001b[0m\u001b[0;34m\u001b[0m\u001b[0m\n\u001b[1;32m    873\u001b[0m \u001b[0;34m\u001b[0m\u001b[0m\n",
      "\u001b[0;31mValueError\u001b[0m: array split does not result in an equal division"
     ]
    }
   ],
   "source": [
    "np.hsplit(a, 2)   # não funciona porque os sub-arrays resultantes serão de tamanho diferente"
   ]
  },
  {
   "cell_type": "markdown",
   "metadata": {},
   "source": [
    "### Cópia e Vista\n",
    "Quando se manipulam arrays nem sempre o objeto é copiado para um novo objeto. Frequentemente podemos ter mais do que uma variável a apontar para o mesmo objeto."
   ]
  },
  {
   "cell_type": "code",
   "execution_count": 30,
   "metadata": {},
   "outputs": [
    {
     "data": {
      "text/plain": [
       "array([[ 0,  1,  2,  3,  4,  5],\n",
       "       [ 6,  7,  8,  9, 10, 11]])"
      ]
     },
     "execution_count": 30,
     "metadata": {},
     "output_type": "execute_result"
    }
   ],
   "source": [
    "a = np.arange(12).reshape(2,6)\n",
    "a"
   ]
  },
  {
   "cell_type": "code",
   "execution_count": 31,
   "metadata": {},
   "outputs": [
    {
     "data": {
      "text/plain": [
       "array([[ 0,  1,  2,  3],\n",
       "       [ 4,  5,  6,  7],\n",
       "       [ 8,  9, 10, 11]])"
      ]
     },
     "execution_count": 31,
     "metadata": {},
     "output_type": "execute_result"
    }
   ],
   "source": [
    "b = a\n",
    "b.shape=3,4\n",
    "a"
   ]
  },
  {
   "cell_type": "markdown",
   "metadata": {},
   "source": [
    "O método **view** cria um novo objeto to tipo array mas que olha para a mesma informação."
   ]
  },
  {
   "cell_type": "code",
   "execution_count": 32,
   "metadata": {},
   "outputs": [
    {
     "name": "stdout",
     "output_type": "stream",
     "text": [
      "True\n",
      "False\n"
     ]
    }
   ],
   "source": [
    "print (a is b)\n",
    "c = a.view()\n",
    "print (c is a)"
   ]
  },
  {
   "cell_type": "code",
   "execution_count": 33,
   "metadata": {},
   "outputs": [
    {
     "name": "stdout",
     "output_type": "stream",
     "text": [
      "[[ 0  1  2  3  4  5]\n",
      " [ 6  7  8  9 10 11]]\n",
      "(3, 4)\n",
      "[[ 0  1  2  3]\n",
      " [ 4  5  6  7]\n",
      " [ 8  9 10 11]]\n"
     ]
    }
   ],
   "source": [
    "c.shape = 2,6  \n",
    "print(c)\n",
    "print (a.shape)\n",
    "print(a)"
   ]
  },
  {
   "cell_type": "code",
   "execution_count": 34,
   "metadata": {},
   "outputs": [
    {
     "data": {
      "text/plain": [
       "array([[   0,    1,    2,    3, 1234,    5],\n",
       "       [   6,    7,    8,    9,   10,   11]])"
      ]
     },
     "execution_count": 34,
     "metadata": {},
     "output_type": "execute_result"
    }
   ],
   "source": [
    "c[0,4] = 1234\n",
    "c"
   ]
  },
  {
   "cell_type": "code",
   "execution_count": 35,
   "metadata": {},
   "outputs": [
    {
     "data": {
      "text/plain": [
       "array([[   0,    1,    2,    3],\n",
       "       [1234,    5,    6,    7],\n",
       "       [   8,    9,   10,   11]])"
      ]
     },
     "execution_count": 35,
     "metadata": {},
     "output_type": "execute_result"
    }
   ],
   "source": [
    "a"
   ]
  },
  {
   "cell_type": "markdown",
   "metadata": {},
   "source": [
    "Para criar uma copia de um objecto array, existe o método **copy** que permite manipular e alterar de forma independente os dois arrays (original e cópia)"
   ]
  },
  {
   "cell_type": "code",
   "execution_count": 36,
   "metadata": {},
   "outputs": [
    {
     "data": {
      "text/plain": [
       "array([[1000,    1,    2,    3],\n",
       "       [1234,    5,    6,    7],\n",
       "       [   8,    9,   10,   11]])"
      ]
     },
     "execution_count": 36,
     "metadata": {},
     "output_type": "execute_result"
    }
   ],
   "source": [
    "d = a.copy()\n",
    "d[0,0]=1000\n",
    "d"
   ]
  },
  {
   "cell_type": "code",
   "execution_count": 37,
   "metadata": {},
   "outputs": [
    {
     "data": {
      "text/plain": [
       "array([[   0,    1,    2,    3],\n",
       "       [1234,    5,    6,    7],\n",
       "       [   8,    9,   10,   11]])"
      ]
     },
     "execution_count": 37,
     "metadata": {},
     "output_type": "execute_result"
    }
   ],
   "source": [
    "a"
   ]
  },
  {
   "cell_type": "markdown",
   "metadata": {
    "collapsed": true
   },
   "source": [
    "### Algebra Linear - conceitos básicos\n",
    "O package Numpy disponibiliza as principais funções de algebra linear disponíveis, nomeadamente:\n",
    "* **transpose**: calcula a transporta de uma matriz;\n",
    "* **linalg.det**: calcula o determinante de uma matriz;\n",
    "* **linalg.inv**: calcula a inversa de uma matriz;\n",
    "* **eye**/**identity**: retorna a matriz identidade;\n",
    "* **linalg.solve**: resolve sistemas de equações lineares.\n",
    "\n",
    "Como exemplo do uso de uma função do módulo *linalg*, resolve o sistema de equações lineares\n",
    "```python\n",
    "3 * x0 + x1 = 9 \n",
    "x0 + 2 * x1 = 8\n",
    "```"
   ]
  },
  {
   "cell_type": "code",
   "execution_count": 38,
   "metadata": {},
   "outputs": [
    {
     "data": {
      "text/plain": [
       "array([2., 3.])"
      ]
     },
     "execution_count": 38,
     "metadata": {},
     "output_type": "execute_result"
    }
   ],
   "source": [
    "a = np.array([[3,1], [1,2]])\n",
    "b = np.array([9,8])\n",
    "x = np.linalg.solve(a, b)\n",
    "x"
   ]
  },
  {
   "cell_type": "code",
   "execution_count": 39,
   "metadata": {},
   "outputs": [
    {
     "data": {
      "text/plain": [
       "5.000000000000001"
      ]
     },
     "execution_count": 39,
     "metadata": {},
     "output_type": "execute_result"
    }
   ],
   "source": [
    "np.linalg.det(a)"
   ]
  },
  {
   "cell_type": "code",
   "execution_count": 40,
   "metadata": {},
   "outputs": [
    {
     "data": {
      "text/plain": [
       "array([[ 0.4, -0.2],\n",
       "       [-0.2,  0.6]])"
      ]
     },
     "execution_count": 40,
     "metadata": {},
     "output_type": "execute_result"
    }
   ],
   "source": [
    "np.linalg.inv(a)"
   ]
  },
  {
   "cell_type": "code",
   "execution_count": 41,
   "metadata": {},
   "outputs": [
    {
     "data": {
      "text/plain": [
       "array([[1., 0., 0., 0.],\n",
       "       [0., 1., 0., 0.],\n",
       "       [0., 0., 1., 0.],\n",
       "       [0., 0., 0., 1.]])"
      ]
     },
     "execution_count": 41,
     "metadata": {},
     "output_type": "execute_result"
    }
   ],
   "source": [
    "np.eye(4)"
   ]
  },
  {
   "cell_type": "code",
   "execution_count": 42,
   "metadata": {},
   "outputs": [
    {
     "name": "stdout",
     "output_type": "stream",
     "text": [
      "[[3 1]\n",
      " [1 2]]\n"
     ]
    },
    {
     "data": {
      "text/plain": [
       "array([[3., 1.],\n",
       "       [1., 2.]])"
      ]
     },
     "execution_count": 42,
     "metadata": {},
     "output_type": "execute_result"
    }
   ],
   "source": [
    "print(a)\n",
    "np.eye(2).dot(a)"
   ]
  },
  {
   "cell_type": "code",
   "execution_count": null,
   "metadata": {},
   "outputs": [],
   "source": []
  }
 ],
 "metadata": {
  "anaconda-cloud": {},
  "kernelspec": {
   "display_name": "Python 3 (ipykernel)",
   "language": "python",
   "name": "python3"
  },
  "language_info": {
   "codemirror_mode": {
    "name": "ipython",
    "version": 3
   },
   "file_extension": ".py",
   "mimetype": "text/x-python",
   "name": "python",
   "nbconvert_exporter": "python",
   "pygments_lexer": "ipython3",
   "version": "3.9.7"
  }
 },
 "nbformat": 4,
 "nbformat_minor": 1
}
