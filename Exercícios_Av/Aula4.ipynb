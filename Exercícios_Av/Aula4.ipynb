{
 "cells": [
  {
   "cell_type": "markdown",
   "source": [
    "## Exercício 3: Implementar o KNNRegressor com RMSE"
   ],
   "metadata": {
    "collapsed": false,
    "pycharm": {
     "name": "#%% md\n"
    }
   }
  },
  {
   "cell_type": "markdown",
   "source": [
    "3.4) Podes testar o objeto KNNRegressor num jupyter notebook\n",
    "usando o dataset cpu.csv (regressão)"
   ],
   "metadata": {
    "collapsed": false,
    "pycharm": {
     "name": "#%% md\n"
    }
   }
  },
  {
   "cell_type": "code",
   "execution_count": 1,
   "outputs": [
    {
     "name": "stdout",
     "output_type": "stream",
     "text": [
      "The predictions:\n",
      "[140.66666667  29.33333333  35.66666667 701.33333333  18.66666667\n",
      " 321.66666667  39.33333333  29.66666667 765.33333333 148.\n",
      "  68.          66.          59.33333333  50.33333333  88.\n",
      "  32.66666667  60.66666667  20.33333333 179.33333333  66.\n",
      "  69.66666667  69.66666667 124.66666667  35.          12.\n",
      "  75.          21.          30.33333333  21.          75.\n",
      " 321.66666667  28.          84.66666667  24.66666667  15.66666667\n",
      "  31.33333333  42.         440.33333333  88.          29.\n",
      " 148.        ]\n",
      "The score:\n",
      "81.36259969252635\n"
     ]
    }
   ],
   "source": [
    "import sys\n",
    "PATHS = [\"si/src/si/data\", \"src/si/io_folder\", \"src/si/model_selection/split\", \"src/si/statistics/euclidean_distance\", \"si/neighbors/knn_regressor\"]\n",
    "sys.path.append(PATHS)\n",
    "\n",
    "from si.io_folder.csv_file import read_csv\n",
    "from si.model_selection.split import train_test_split\n",
    "from si.statistics.euclidean_distance import euclidean_distance\n",
    "from si.neighbors.knn_regressor import KNNRegressor\n",
    "\n",
    "cpu = read_csv('C:/Users/beatr/Mestrado/2ºano/si/datasets/cpu.csv', sep=',', features=True, label=True)\n",
    "cpu_train, cpu_test = train_test_split(cpu)\n",
    "\n",
    "knn = KNNRegressor(k=3, distance=euclidean_distance)\n",
    "knn.fit(cpu_train)\n",
    "predictions = knn.predict(cpu_test)\n",
    "predictions\n",
    "print(\"The predictions:\")\n",
    "print(predictions)\n",
    "print(\"The score:\")\n",
    "score = knn.score(cpu_test)\n",
    "print(score)\n"
   ],
   "metadata": {
    "collapsed": false,
    "pycharm": {
     "name": "#%%\n"
    }
   }
  }
 ],
 "metadata": {
  "kernelspec": {
   "display_name": "Python 3",
   "language": "python",
   "name": "python3"
  },
  "language_info": {
   "codemirror_mode": {
    "name": "ipython",
    "version": 2
   },
   "file_extension": ".py",
   "mimetype": "text/x-python",
   "name": "python",
   "nbconvert_exporter": "python",
   "pygments_lexer": "ipython2",
   "version": "2.7.6"
  }
 },
 "nbformat": 4,
 "nbformat_minor": 0
}