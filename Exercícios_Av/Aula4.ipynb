{
 "cells": [
  {
   "cell_type": "markdown",
   "source": [
    "## Exercício 3: Implementar o KNNRegressor com RMSE"
   ],
   "metadata": {
    "collapsed": false,
    "pycharm": {
     "name": "#%% md\n"
    }
   }
  },
  {
   "cell_type": "markdown",
   "source": [
    "3.4) Podes testar o objeto KNNRegressor num jupyter notebook\n",
    "usando o dataset cpu.csv (regressão)"
   ],
   "metadata": {
    "collapsed": false,
    "pycharm": {
     "name": "#%% md\n"
    }
   }
  },
  {
   "cell_type": "code",
   "execution_count": null,
   "outputs": [],
   "source": [
    "import sys\n",
    "PATHS = [\"si/src/si/data\", \"src/si/io_folder\", \"src/si/model_selection/split\", \"src/si/statistics/euclidean_distance\", \"si/neighbors/knn_regressor\"]\n",
    "sys.path.append(PATHS)\n",
    "\n",
    "from si.io_folder.csv_file import read_csv\n",
    "from si.model_selection.split import train_test_split\n",
    "from si.statistics.euclidean_distance import euclidean_distance\n",
    "from si.neighbors.knn_regressor import KNNRegressor\n",
    "\n",
    "cpu = read_csv('C:/Users/beatr/Mestrado/2ºano/si/datasets/cpu.csv.url', sep=',', features=True, label=True)\n",
    "cpu_trn, cpu_tst = train_test_split(dataset=cpu, test_size=0.3, random_state=1)\n",
    "knn = KNNRegressor(k=4, weighted=True, distance=euclidean_distance)\n",
    "knn.fit(cpu_trn)\n",
    "rmse = knn.score(cpu_tst)\n",
    "print(f\"RMSE: {rmse:.4f}\")\n",
    "\n"
   ],
   "metadata": {
    "collapsed": false,
    "pycharm": {
     "name": "#%%\n"
    }
   }
  }
 ],
 "metadata": {
  "kernelspec": {
   "display_name": "Python 3",
   "language": "python",
   "name": "python3"
  },
  "language_info": {
   "codemirror_mode": {
    "name": "ipython",
    "version": 2
   },
   "file_extension": ".py",
   "mimetype": "text/x-python",
   "name": "python",
   "nbconvert_exporter": "python",
   "pygments_lexer": "ipython2",
   "version": "2.7.6"
  }
 },
 "nbformat": 4,
 "nbformat_minor": 0
}