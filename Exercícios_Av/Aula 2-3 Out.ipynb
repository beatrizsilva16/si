{
 "cells": [
  {
   "cell_type": "markdown",
   "source": [
    "## Exercício 3: Implementar o SelectPercentile"
   ],
   "metadata": {
    "collapsed": false,
    "pycharm": {
     "name": "#%% md\n"
    }
   }
  },
  {
   "cell_type": "markdown",
   "source": [
    "3.3 ) Testar a class SelectPercentile num jupyter notebook usando o dataset iris.csv (classificação)"
   ],
   "metadata": {
    "collapsed": false,
    "pycharm": {
     "name": "#%% md\n"
    }
   },
   "outputs": [
    {
     "ename": "SyntaxError",
     "evalue": "unmatched ')' (<ipython-input-1-ebc19c032df1>, line 1)",
     "output_type": "error",
     "traceback": [
      "\u001B[1;36m  File \u001B[1;32m\"<ipython-input-1-ebc19c032df1>\"\u001B[1;36m, line \u001B[1;32m1\u001B[0m\n\u001B[1;33m    3.3 ) Testar a class SelectPercentile num jupyter notebook usando o dataset iris.csv (classificação)\u001B[0m\n\u001B[1;37m        ^\u001B[0m\n\u001B[1;31mSyntaxError\u001B[0m\u001B[1;31m:\u001B[0m unmatched ')'\n"
     ]
    }
   ],
   "execution_count": null
  },
  {
   "cell_type": "code",
   "execution_count": 4,
   "outputs": [
    {
     "ename": "SyntaxError",
     "evalue": "invalid syntax (<ipython-input-4-00479d17207e>, line 8)",
     "output_type": "error",
     "traceback": [
      "\u001B[1;36m  File \u001B[1;32m\"<ipython-input-4-00479d17207e>\"\u001B[1;36m, line \u001B[1;32m8\u001B[0m\n\u001B[1;33m    from si.feature_selection.select_percentile import\u001B[0m\n\u001B[1;37m                                                      ^\u001B[0m\n\u001B[1;31mSyntaxError\u001B[0m\u001B[1;31m:\u001B[0m invalid syntax\n"
     ]
    }
   ],
   "source": [
    "import numpy as np\n",
    "import sys\n",
    "PATHS = [\"si/src/si/data\", \"src/si/io_folder\", \"src/si/statistics\", \"src/si/feature_selection\"]\n",
    "sys.path.append(PATHS)\n",
    "\n",
    "from si.data.dataset import Dataset\n",
    "from si.io_folder.csv_file import read_csv\n",
    "from si.feature_selection.select_percentile import\n",
    "\n",
    "iris = read_csv('C:/Users/beatr/Mestrado/2ºano/si/datasets/iris.csv', sep=',', features=True, label=True)\n",
    "\n"
   ],
   "metadata": {
    "collapsed": false,
    "pycharm": {
     "name": "#%%\n"
    }
   }
  },
  {
   "cell_type": "markdown",
   "source": [],
   "metadata": {
    "collapsed": false,
    "pycharm": {
     "name": "#%% md\n"
    }
   }
  }
 ],
 "metadata": {
  "kernelspec": {
   "display_name": "Python 3",
   "language": "python",
   "name": "python3"
  },
  "language_info": {
   "codemirror_mode": {
    "name": "ipython",
    "version": 2
   },
   "file_extension": ".py",
   "mimetype": "text/x-python",
   "name": "python",
   "nbconvert_exporter": "python",
   "pygments_lexer": "ipython2",
   "version": "2.7.6"
  }
 },
 "nbformat": 4,
 "nbformat_minor": 0
}