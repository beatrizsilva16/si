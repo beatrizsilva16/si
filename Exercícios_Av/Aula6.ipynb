{
 "cells": [
  {
   "cell_type": "markdown",
   "source": [
    "## Exercício 6: Adiciona o modelo ensemble StackingClassifier"
   ],
   "metadata": {
    "collapsed": false,
    "pycharm": {
     "name": "#%% md\n"
    }
   }
  },
  {
   "cell_type": "markdown",
   "source": [
    "Exercise: Test the object VotingClassifier using the breast-bin.csv dataset"
   ],
   "metadata": {
    "collapsed": false,
    "pycharm": {
     "name": "#%% md\n"
    }
   }
  },
  {
   "cell_type": "code",
   "execution_count": 1,
   "outputs": [
    {
     "ename": "TypeError",
     "evalue": "'_ctypes.UnionType' object is not subscriptable",
     "output_type": "error",
     "traceback": [
      "\u001B[1;31m---------------------------------------------------------------------------\u001B[0m",
      "\u001B[1;31mTypeError\u001B[0m                                 Traceback (most recent call last)",
      "\u001B[1;32m<ipython-input-1-dab4aade7f40>\u001B[0m in \u001B[0;36m<module>\u001B[1;34m\u001B[0m\n\u001B[0;32m      1\u001B[0m \u001B[1;32mimport\u001B[0m \u001B[0msys\u001B[0m\u001B[1;33m\u001B[0m\u001B[1;33m\u001B[0m\u001B[0m\n\u001B[0;32m      2\u001B[0m \u001B[1;32mfrom\u001B[0m \u001B[0msi\u001B[0m\u001B[1;33m.\u001B[0m\u001B[0mmodel_selection\u001B[0m\u001B[1;33m.\u001B[0m\u001B[0msplit\u001B[0m \u001B[1;32mimport\u001B[0m \u001B[0mtrain_test_split\u001B[0m\u001B[1;33m\u001B[0m\u001B[1;33m\u001B[0m\u001B[0m\n\u001B[1;32m----> 3\u001B[1;33m \u001B[1;32mfrom\u001B[0m \u001B[0msi\u001B[0m\u001B[1;33m.\u001B[0m\u001B[0mneighbors\u001B[0m\u001B[1;33m.\u001B[0m\u001B[0mknn_classifier\u001B[0m \u001B[1;32mimport\u001B[0m \u001B[0mKNNClassifier\u001B[0m\u001B[1;33m\u001B[0m\u001B[1;33m\u001B[0m\u001B[0m\n\u001B[0m\u001B[0;32m      4\u001B[0m \u001B[1;32mfrom\u001B[0m \u001B[0msi\u001B[0m\u001B[1;33m.\u001B[0m\u001B[0mlinear_model\u001B[0m\u001B[1;33m.\u001B[0m\u001B[0mlogistic_regression\u001B[0m \u001B[1;32mimport\u001B[0m \u001B[0mLogisticRegression\u001B[0m\u001B[1;33m\u001B[0m\u001B[1;33m\u001B[0m\u001B[0m\n\u001B[0;32m      5\u001B[0m \u001B[1;32mfrom\u001B[0m \u001B[0msi\u001B[0m\u001B[1;33m.\u001B[0m\u001B[0mensemble\u001B[0m\u001B[1;33m.\u001B[0m\u001B[0mvoting_classifier\u001B[0m \u001B[1;32mimport\u001B[0m \u001B[0mVotingClassifier\u001B[0m\u001B[1;33m\u001B[0m\u001B[1;33m\u001B[0m\u001B[0m\n",
      "\u001B[1;32m~\\Mestrado\\2ºano\\si\\src\\si\\neighbors\\knn_classifier.py\u001B[0m in \u001B[0;36m<module>\u001B[1;34m\u001B[0m\n\u001B[0;32m     10\u001B[0m \u001B[1;33m\u001B[0m\u001B[0m\n\u001B[0;32m     11\u001B[0m \u001B[1;33m\u001B[0m\u001B[0m\n\u001B[1;32m---> 12\u001B[1;33m \u001B[1;32mclass\u001B[0m \u001B[0mKNNClassifier\u001B[0m\u001B[1;33m:\u001B[0m\u001B[1;33m\u001B[0m\u001B[1;33m\u001B[0m\u001B[0m\n\u001B[0m\u001B[0;32m     13\u001B[0m     \"\"\"\n\u001B[0;32m     14\u001B[0m     \u001B[0mImplements\u001B[0m \u001B[0mthe\u001B[0m \u001B[0mK\u001B[0m\u001B[1;33m-\u001B[0m\u001B[0mNearest\u001B[0m \u001B[0mNeighbors\u001B[0m \u001B[0mclassifier\u001B[0m\u001B[1;33m.\u001B[0m \u001B[0mDistances\u001B[0m \u001B[0mbetween\u001B[0m \u001B[0mtest\u001B[0m \u001B[0mexamples\u001B[0m \u001B[1;32mand\u001B[0m \u001B[0mexamples\u001B[0m\u001B[1;33m\u001B[0m\u001B[1;33m\u001B[0m\u001B[0m\n",
      "\u001B[1;32m~\\Mestrado\\2ºano\\si\\src\\si\\neighbors\\knn_classifier.py\u001B[0m in \u001B[0;36mKNNClassifier\u001B[1;34m()\u001B[0m\n\u001B[0;32m     66\u001B[0m         \u001B[1;32mreturn\u001B[0m \u001B[0mself\u001B[0m\u001B[1;33m\u001B[0m\u001B[1;33m\u001B[0m\u001B[0m\n\u001B[0;32m     67\u001B[0m \u001B[1;33m\u001B[0m\u001B[0m\n\u001B[1;32m---> 68\u001B[1;33m     \u001B[1;32mdef\u001B[0m \u001B[0m_get_closest_label\u001B[0m\u001B[1;33m(\u001B[0m\u001B[0mself\u001B[0m\u001B[1;33m,\u001B[0m \u001B[0msample\u001B[0m\u001B[1;33m:\u001B[0m \u001B[0mnp\u001B[0m\u001B[1;33m.\u001B[0m\u001B[0mndarray\u001B[0m\u001B[1;33m)\u001B[0m \u001B[1;33m->\u001B[0m \u001B[0mUnion\u001B[0m\u001B[1;33m[\u001B[0m\u001B[0mint\u001B[0m\u001B[1;33m,\u001B[0m \u001B[0mstr\u001B[0m\u001B[1;33m]\u001B[0m\u001B[1;33m:\u001B[0m\u001B[1;33m\u001B[0m\u001B[1;33m\u001B[0m\u001B[0m\n\u001B[0m\u001B[0;32m     69\u001B[0m         \"\"\"\n\u001B[0;32m     70\u001B[0m         \u001B[0mReturns\u001B[0m \u001B[0mthe\u001B[0m \u001B[0mpredicted\u001B[0m \u001B[0mlabel\u001B[0m \u001B[0mof\u001B[0m \u001B[0mthe\u001B[0m \u001B[0msample\u001B[0m \u001B[0mgiven\u001B[0m \u001B[1;32mas\u001B[0m \u001B[0minput\u001B[0m\u001B[1;33m.\u001B[0m \u001B[0mThe\u001B[0m \u001B[0mlabel\u001B[0m \u001B[1;32mis\u001B[0m \u001B[0mdetermined\u001B[0m \u001B[0mby\u001B[0m\u001B[1;33m\u001B[0m\u001B[1;33m\u001B[0m\u001B[0m\n",
      "\u001B[1;31mTypeError\u001B[0m: '_ctypes.UnionType' object is not subscriptable"
     ]
    }
   ],
   "source": [
    "import sys\n",
    "from si.model_selection.split import train_test_split\n",
    "from si.neighbors.knn_classifier import KNNClassifier\n",
    "from si.linear_model.logistic_regression import LogisticRegression\n",
    "from si.ensemble.voting_classifier import VotingClassifier\n",
    "from si.ensemble.stacking_classifier import StackingClassifier\n",
    "from si.statistics.euclidean_distance import euclidean_distance\n",
    "from sklearn.preprocessing import StandardScaler\n",
    "from typing import Union\n",
    "\n",
    "PATHS = [\"si/src/si/data\", \"src/si/io_folder\"]\n",
    "sys.path.append(PATHS)\n",
    "\n",
    "from si.io_folder.csv_file import read_csv\n",
    "\n",
    "breast = read_csv('C:/Users/beatr/Mestrado/2ºano/si/datasets/breast-bin.csv', sep=',', features=True, label=True)\n",
    "\n",
    "# (2) Standardize features by removing the mean and scaling to unit variance.\n",
    "breast.X = StandardScaler().fit_transform(breast.X)\n",
    "\n",
    "# (3) Split dataset in training and testing sets\n",
    "breast_train, breast_test = train_test_split(breast)\n",
    "\n",
    "# (4) Model KNNClassifier\n",
    "knn = KNNClassifier(k=3, distance=euclidean_distance)\n",
    "\n",
    "# (5) Logistic Regression\n",
    "lr = LogisticRegression(l2_penalty= 1, alpha= 0.001, max_iter=2000)\n",
    "\n",
    "# (6) Create VotingClassifier ensemble model using the previous classifiers\n",
    "voting = VotingClassifier([knn, lr])\n",
    "\n",
    "# (7) Train the model\n",
    "voting.fit(breast_train)\n",
    "\n",
    "# (8) What is the score obtained?\n",
    "score = voting.score(breast_test)\n",
    "print(f\"The voting score is {score}\")\n"
   ],
   "metadata": {
    "collapsed": false,
    "pycharm": {
     "name": "#%%\n"
    }
   }
  }
 ],
 "metadata": {
  "kernelspec": {
   "display_name": "Python 3",
   "language": "python",
   "name": "python3"
  },
  "language_info": {
   "codemirror_mode": {
    "name": "ipython",
    "version": 2
   },
   "file_extension": ".py",
   "mimetype": "text/x-python",
   "name": "python",
   "nbconvert_exporter": "python",
   "pygments_lexer": "ipython2",
   "version": "2.7.6"
  }
 },
 "nbformat": 4,
 "nbformat_minor": 0
}