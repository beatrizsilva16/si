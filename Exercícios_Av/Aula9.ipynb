{
 "cells": [
  {
   "cell_type": "markdown",
   "source": [
    "## Exercício 10: Redes neuronais, layers de ativação, regressão e multiclass"
   ],
   "metadata": {
    "collapsed": false,
    "pycharm": {
     "name": "#%% md\n"
    }
   }
  },
  {
   "cell_type": "markdown",
   "source": [
    "10.3) Constrói um modelo de redes neuronais\n",
    "considerando a seguinte topologia:\n",
    "- O dataset de treino contém 32 features\n",
    "- O problema é do tipo binário\n",
    "- O modelo deve conter 3 Dense layers:\n",
    "• Dense layer de input\n",
    "• Dense layer com redução do número de neurónios (units) para metade\n",
    "• Dense layer final (output)\n",
    "- Usa a SigmoidActivation como layer de ativação"
   ],
   "metadata": {
    "collapsed": false,
    "pycharm": {
     "name": "#%% md\n"
    }
   }
  },
  {
   "cell_type": "code",
   "execution_count": 1,
   "outputs": [],
   "source": [
    "from si.neural_networks.layer import Dense, SigmoidActivation\n",
    "from si.neural_networks.nn import NN\n",
    "\n",
    "layer3_1 = Dense(input_size=32, output_size=32)\n",
    "layer3_2 = Dense(input_size=32, output_size=16)\n",
    "layer3_3 = Dense(input_size=16, output_size=1)\n",
    "\n",
    "layer3_1activation = SigmoidActivation()\n",
    "layer3_2activation = SigmoidActivation()\n",
    "layer3_3activation = SigmoidActivation()\n",
    "\n",
    "model10_3 = NN(layers=[layer3_1, layer3_1activation, layer3_2, layer3_2activation, layer3_3, layer3_3activation])"
   ],
   "metadata": {
    "collapsed": false,
    "pycharm": {
     "name": "#%%\n"
    }
   }
  },
  {
   "cell_type": "markdown",
   "source": [
    "10.4) Constrói um modelo de redes neuronais\n",
    "considerando a seguinte topologia:\n",
    "- O dataset de treino contém 32 features\n",
    "- O problema é do tipo multiclass com 3 classes\n",
    "- O modelo deve conter 3 Dense layers:\n",
    "• Dense layer de input\n",
    "• Dense layer com redução do número de neurónios (units) para metade\n",
    "• Dense layer final (output)\n",
    "- Usa a SigmoidActivation como layer de ativação\n",
    "- Usa a SoftMaxActivation como última layer de ativação"
   ],
   "metadata": {
    "collapsed": false,
    "pycharm": {
     "name": "#%% md\n"
    }
   }
  },
  {
   "cell_type": "code",
   "execution_count": 1,
   "outputs": [],
   "source": [
    "from si.neural_networks.layer import Dense, SigmoidActivation, SoftMaxActivation\n",
    "from si.neural_networks.nn import NN\n",
    "\n",
    "layer4_1 = Dense(input_size=32, output_size=32)\n",
    "layer4_2 = Dense(input_size=32, output_size=16)\n",
    "layer4_3 = Dense(input_size=16, output_size=3) # 3 because we have 3 classes\n",
    "\n",
    "layer4_1activation = SigmoidActivation()\n",
    "layer4_2activation = SigmoidActivation()\n",
    "layer4_3activation = SoftMaxActivation()\n",
    "\n",
    "model10_4 = NN(layers=[layer4_1, layer4_1activation, layer4_2, layer4_2activation, layer4_3, layer4_3activation])"
   ],
   "metadata": {
    "collapsed": false,
    "pycharm": {
     "name": "#%%\n"
    }
   }
  },
  {
   "cell_type": "markdown",
   "source": [
    "10.5) Constrói um modelo de redes neuronais\n",
    "considerando a seguinte topologia:\n",
    "- O dataset de treino contém 32 features\n",
    "- O problema é do tipo regressão\n",
    "- O modelo deve conter 3 Dense layers:\n",
    "• Dense layer de input\n",
    "• Dense layer com redução do número de neurónios (units) para metade\n",
    "• Dense layer final (output)\n",
    "- Usa a ReLU como layer de ativação\n",
    "- Considera que o modelo deve acabar com uma ativação linear"
   ],
   "metadata": {
    "collapsed": false,
    "pycharm": {
     "name": "#%% md\n"
    }
   }
  },
  {
   "cell_type": "code",
   "execution_count": 2,
   "outputs": [],
   "source": [
    "from si.neural_networks.layer import Dense, ReLUActivation, LinearActivation\n",
    "from si.neural_networks.nn import NN\n",
    "layer5_1 = Dense(input_size=32, output_size=32)\n",
    "layer5_2 = Dense(input_size=32, output_size=16)\n",
    "layer5_3 = Dense(input_size=16, output_size=1)\n",
    "\n",
    "layer5_1activation = ReLUActivation()\n",
    "layer5_2activation = ReLUActivation()\n",
    "layer5_3activation = LinearActivation()\n",
    "\n",
    "model10_5 = NN(layers=[layer5_1, layer5_1activation, layer5_2, layer5_2activation, layer5_3, layer5_3activation])"
   ],
   "metadata": {
    "collapsed": false,
    "pycharm": {
     "name": "#%%\n"
    }
   }
  },
  {
   "cell_type": "code",
   "execution_count": null,
   "outputs": [],
   "source": [],
   "metadata": {
    "collapsed": false,
    "pycharm": {
     "name": "#%%\n"
    }
   }
  }
 ],
 "metadata": {
  "kernelspec": {
   "display_name": "Python 3",
   "language": "python",
   "name": "python3"
  },
  "language_info": {
   "codemirror_mode": {
    "name": "ipython",
    "version": 2
   },
   "file_extension": ".py",
   "mimetype": "text/x-python",
   "name": "python",
   "nbconvert_exporter": "python",
   "pygments_lexer": "ipython2",
   "version": "2.7.6"
  }
 },
 "nbformat": 4,
 "nbformat_minor": 0
}