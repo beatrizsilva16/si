{
 "cells": [
  {
   "cell_type": "markdown",
   "source": [
    "## Teste RidgeRegression e LogisticRegression"
   ],
   "metadata": {
    "collapsed": false,
    "pycharm": {
     "name": "#%% md\n"
    }
   }
  },
  {
   "cell_type": "markdown",
   "source": [
    "RidgeRegression - Usa o dataset cpu.csv"
   ],
   "metadata": {
    "collapsed": false,
    "pycharm": {
     "name": "#%% md\n"
    }
   }
  },
  {
   "cell_type": "code",
   "execution_count": 2,
   "outputs": [],
   "source": [
    "import sys\n",
    "PATHS = [\"si/src/si/data\", \"src/si/io_folder\"]\n",
    "sys.path.append(PATHS)\n",
    "\n",
    "from si.io_folder.csv_file import read_csv\n",
    "cpu = read_csv('C:/Users/beatr/Mestrado/2ºano/si/datasets/cpu.csv', sep=',', features=True, label=True)"
   ],
   "metadata": {
    "collapsed": false,
    "pycharm": {
     "name": "#%%\n"
    }
   }
  },
  {
   "cell_type": "markdown",
   "source": [
    "Usa o sklearn.preprocessing.StandardScaler para standardizar\n",
    "os dataset. cpu_dataset.X = StandardScaler().fit_transform(cpu_dataset.X)"
   ],
   "metadata": {
    "collapsed": false,
    "pycharm": {
     "name": "#%% md\n"
    }
   }
  },
  {
   "cell_type": "code",
   "execution_count": 3,
   "outputs": [],
   "source": [
    "from si.linear_model.logistic_regression import LogisticRegression\n",
    "from si.linear_model.ridge_regression import RidgeRegression\n",
    "from sklearn.preprocessing import StandardScaler\n",
    "cpu.X = StandardScaler().fit_transform(cpu.X)"
   ],
   "metadata": {
    "collapsed": false,
    "pycharm": {
     "name": "#%%\n"
    }
   }
  },
  {
   "cell_type": "markdown",
   "source": [
    "Divide o dataset em treino e teste"
   ],
   "metadata": {
    "collapsed": false,
    "pycharm": {
     "name": "#%% md\n"
    }
   }
  },
  {
   "cell_type": "code",
   "execution_count": 4,
   "outputs": [],
   "source": [
    "from si.model_selection.split import train_test_split\n",
    "cpu_train, cpu_test = train_test_split(cpu, test_size=0.3, random_state=2)"
   ],
   "metadata": {
    "collapsed": false,
    "pycharm": {
     "name": "#%%\n"
    }
   }
  },
  {
   "cell_type": "markdown",
   "source": [
    "Treina o modelo. Qual o score? E o custo?\n"
   ],
   "metadata": {
    "collapsed": false,
    "pycharm": {
     "name": "#%% md\n"
    }
   }
  },
  {
   "cell_type": "code",
   "execution_count": 6,
   "outputs": [
    {
     "data": {
      "text/plain": "<Figure size 432x288 with 1 Axes>",
      "image/png": "[encoded data removed]"
     },
     "metadata": {
      "needs_background": "light"
     },
     "output_type": "display_data"
    }
   ],
   "source": [
    "rr = RidgeRegression(max_iter=2000)\n",
    "rr.fit(cpu_train)\n",
    "rr.predict(cpu_test)\n",
    "rr.score(cpu_test)\n",
    "rr.cost(cpu_test)\n",
    "rr.cost_function_plot()"
   ],
   "metadata": {
    "collapsed": false,
    "pycharm": {
     "name": "#%%\n"
    }
   }
  },
  {
   "cell_type": "markdown",
   "source": [
    "LogisticRegression - Usa o dataset breast-bin.csv"
   ],
   "metadata": {
    "collapsed": false,
    "pycharm": {
     "name": "#%% md\n"
    }
   }
  },
  {
   "cell_type": "code",
   "execution_count": 7,
   "outputs": [],
   "source": [
    "import sys\n",
    "PATHS = [\"si/src/si/data\", \"src/si/io_folder\"]\n",
    "sys.path.append(PATHS)\n",
    "\n",
    "from si.io_folder.csv_file import read_csv\n",
    "breast = read_csv('C:/Users/beatr/Mestrado/2ºano/si/datasets/breast-bin.csv', sep=',', features=True, label=True)"
   ],
   "metadata": {
    "collapsed": false,
    "pycharm": {
     "name": "#%%\n"
    }
   }
  },
  {
   "cell_type": "markdown",
   "source": [
    "Usa o sklearn.preprocessing.StandardScaler para standardizar\n",
    "os dataset. breast_dataset.X = StandardScaler().fit_transform(breast_dataset.X)"
   ],
   "metadata": {
    "collapsed": false,
    "pycharm": {
     "name": "#%% md\n"
    }
   }
  },
  {
   "cell_type": "code",
   "execution_count": 8,
   "outputs": [],
   "source": [
    "breast.X = StandardScaler().fit_transform(breast.X)"
   ],
   "metadata": {
    "collapsed": false,
    "pycharm": {
     "name": "#%%\n"
    }
   }
  },
  {
   "cell_type": "markdown",
   "source": [
    "Divide o dataset em treino e teste"
   ],
   "metadata": {
    "collapsed": false,
    "pycharm": {
     "name": "#%% md\n"
    }
   }
  },
  {
   "cell_type": "code",
   "execution_count": 9,
   "outputs": [],
   "source": [
    "breast_train, breast_test = train_test_split(breast, test_size=0.3, random_state=2)"
   ],
   "metadata": {
    "collapsed": false,
    "pycharm": {
     "name": "#%%\n"
    }
   }
  },
  {
   "cell_type": "markdown",
   "source": [
    "Treina o modelo. Qual o score? E o custo?"
   ],
   "metadata": {
    "collapsed": false,
    "pycharm": {
     "name": "#%% md\n"
    }
   }
  },
  {
   "cell_type": "code",
   "execution_count": 10,
   "outputs": [
    {
     "data": {
      "text/plain": "<Figure size 432x288 with 1 Axes>",
      "image/png": "[encoded data removed]"
     },
     "metadata": {
      "needs_background": "light"
     },
     "output_type": "display_data"
    }
   ],
   "source": [
    "lr = LogisticRegression(l2_penalty= 1, alpha= 0.001, max_iter=2000)\n",
    "lr.fit(breast_train)\n",
    "lr.predict(breast_test)\n",
    "lr.score(breast_test)\n",
    "lr.cost(breast_test)\n",
    "lr.cost_function_plot()"
   ],
   "metadata": {
    "collapsed": false,
    "pycharm": {
     "name": "#%%\n"
    }
   }
  },
  {
   "cell_type": "markdown",
   "source": [
    "## Exercício 6: Completa as implementações dos modelos RidgeRegression e LogisticRegression"
   ],
   "metadata": {
    "collapsed": false,
    "pycharm": {
     "name": "#%% md\n"
    }
   }
  },
  {
   "cell_type": "markdown",
   "source": [
    "6.2) Realiza um gráfico (line plot) que permita visualizar o comportamento do custo\n",
    "em função do número de iterações."
   ],
   "metadata": {
    "collapsed": false,
    "pycharm": {
     "name": "#%% md\n"
    }
   }
  },
  {
   "cell_type": "markdown",
   "source": [
    "Testar para os dataset cpu"
   ],
   "metadata": {
    "collapsed": false,
    "pycharm": {
     "name": "#%% md\n"
    }
   }
  },
  {
   "cell_type": "code",
   "execution_count": 6,
   "outputs": [
    {
     "name": "stdout",
     "output_type": "stream",
     "text": [
      "Score: 2158.728022617531\n",
      "Cost: 2175.393042417361\n"
     ]
    },
    {
     "data": {
      "text/plain": "<Figure size 432x288 with 1 Axes>",
      "image/png": "[encoded data removed]"
     },
     "metadata": {
      "needs_background": "light"
     },
     "output_type": "display_data"
    }
   ],
   "source": [
    "from si.linear_model.ridge_regression import RidgeRegression\n",
    "from si.model_selection.split import train_test_split\n",
    "from sklearn.preprocessing import StandardScaler\n",
    "import sys\n",
    "PATHS = [\"si/src/si/data\", \"src/si/io_folder\"]\n",
    "sys.path.append(PATHS)\n",
    "from si.io_folder.csv_file import read_csv\n",
    "cpu_dataset = read_csv('C:/Users/beatr/Mestrado/2ºano/si/datasets/cpu.csv', sep=',', features=True, label=True)\n",
    "\n",
    "#standardization\n",
    "cpu_dataset.X = StandardScaler().fit_transform(cpu_dataset.X)\n",
    "#split dataset\n",
    "train_dataset, test_dataset = train_test_split(cpu_dataset)\n",
    "#logistic regression\n",
    "rg = RidgeRegression(max_iter=2000)\n",
    "rg.fit(train_dataset)\n",
    "rg.predict(train_dataset)\n",
    "score = rg.score(train_dataset)\n",
    "print(f\"Score: {score}\")\n",
    "cost = rg.cost(train_dataset)\n",
    "print(f\"Cost: {cost}\")\n",
    "#graph\n",
    "rg.cost_function_plot()"
   ],
   "metadata": {
    "collapsed": false,
    "pycharm": {
     "name": "#%%\n"
    }
   }
  },
  {
   "cell_type": "markdown",
   "source": [
    "Testar para os dataset breast"
   ],
   "metadata": {
    "collapsed": false,
    "pycharm": {
     "name": "#%% md\n"
    }
   }
  },
  {
   "cell_type": "code",
   "execution_count": 1,
   "outputs": [
    {
     "name": "stdout",
     "output_type": "stream",
     "text": [
      "Score: 0.9064748201438847\n",
      "Cost: 0.4616167149664428\n"
     ]
    },
    {
     "data": {
      "text/plain": "<Figure size 432x288 with 1 Axes>",
      "image/png": "[encoded data removed]"
     },
     "metadata": {
      "needs_background": "light"
     },
     "output_type": "display_data"
    }
   ],
   "source": [
    "from si.linear_model.logistic_regression import LogisticRegression\n",
    "from si.model_selection.split import train_test_split\n",
    "\n",
    "\n",
    " # import dataset\n",
    "import sys\n",
    "PATHS = [\"si/src/si/data\", \"src/si/io_folder\"]\n",
    "sys.path.append(PATHS)\n",
    "from si.io_folder.csv_file import read_csv\n",
    "dataset_ = read_csv('C:/Users/beatr/Mestrado/2ºano/si/datasets/breast-bin.csv', sep=',', features=True, label=True)\n",
    "\n",
    "# load and split the dataset\n",
    "dataset_train, dataset_test = train_test_split(dataset_, test_size=0.2)\n",
    "\n",
    "# fit the model\n",
    "model = LogisticRegression(l2_penalty=1, alpha=0.001, max_iter=1000)\n",
    "model.fit(dataset_train)\n",
    "\n",
    "# compute the score\n",
    "score = model.score(dataset_test)\n",
    "print(f\"Score: {score}\")\n",
    "\n",
    "# compute the cost\n",
    "cost = model.cost(dataset_)\n",
    "print(f\"Cost: {cost}\")\n",
    "\n",
    "# plot\n",
    "model.cost_function_plot()"
   ],
   "metadata": {
    "collapsed": false,
    "pycharm": {
     "name": "#%%\n"
    }
   }
  },
  {
   "cell_type": "markdown",
   "source": [],
   "metadata": {
    "collapsed": false,
    "pycharm": {
     "name": "#%% md\n"
    }
   }
  },
  {
   "cell_type": "code",
   "execution_count": null,
   "outputs": [],
   "source": [],
   "metadata": {
    "collapsed": false,
    "pycharm": {
     "name": "#%%\n"
    }
   }
  }
 ],
 "metadata": {
  "kernelspec": {
   "display_name": "Python 3",
   "language": "python",
   "name": "python3"
  },
  "language_info": {
   "codemirror_mode": {
    "name": "ipython",
    "version": 2
   },
   "file_extension": ".py",
   "mimetype": "text/x-python",
   "name": "python",
   "nbconvert_exporter": "python",
   "pygments_lexer": "ipython2",
   "version": "2.7.6"
  }
 },
 "nbformat": 4,
 "nbformat_minor": 0
}