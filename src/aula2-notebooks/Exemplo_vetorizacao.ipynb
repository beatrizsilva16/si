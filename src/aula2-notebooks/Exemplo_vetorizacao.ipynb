{
 "cells": [
  {
   "cell_type": "markdown",
   "metadata": {
    "pycharm": {
     "name": "#%% md\n"
    }
   },
   "source": [
    "## Exemplo dos ganhos da vetorização"
   ]
  },
  {
   "cell_type": "code",
   "execution_count": 1,
   "metadata": {
    "pycharm": {
     "name": "#%%\n"
    }
   },
   "outputs": [],
   "source": [
    "import numpy as np\n",
    "import time"
   ]
  },
  {
   "cell_type": "markdown",
   "metadata": {
    "pycharm": {
     "name": "#%% md\n"
    }
   },
   "source": [
    "Vamos primeiro criar dois arrays 1D com 1 milhao de valores"
   ]
  },
  {
   "cell_type": "code",
   "execution_count": 2,
   "metadata": {
    "pycharm": {
     "name": "#%%\n"
    }
   },
   "outputs": [
    {
     "data": {
      "text/plain": [
       "(1000000,)"
      ]
     },
     "execution_count": 2,
     "metadata": {},
     "output_type": "execute_result"
    }
   ],
   "source": [
    "dim = 1000000\n",
    "\n",
    "a = np.random.rand(dim)\n",
    "b = np.random.rand(dim)\n",
    "\n",
    "a.shape"
   ]
  },
  {
   "cell_type": "markdown",
   "metadata": {
    "pycharm": {
     "name": "#%% md\n"
    }
   },
   "source": [
    "Vamos agora fazer o produto interno destes dois valores com um ciclo for e medir o tempo de computação"
   ]
  },
  {
   "cell_type": "code",
   "execution_count": 3,
   "metadata": {
    "pycharm": {
     "name": "#%%\n"
    }
   },
   "outputs": [
    {
     "name": "stdout",
     "output_type": "stream",
     "text": [
      "Result:  249863.26538706437\n",
      "Time for:  385.20288467407227  ms\n"
     ]
    }
   ],
   "source": [
    "ini_for = time.time()\n",
    "\n",
    "res_for = 0.0\n",
    "for i in range(dim):\n",
    "    res_for += a[i]* b[i]\n",
    "    \n",
    "time_for = time.time() - ini_for\n",
    "\n",
    "print(\"Result: \", res_for)\n",
    "print(\"Time for: \", time_for* 1000, \" ms\")"
   ]
  },
  {
   "cell_type": "markdown",
   "metadata": {
    "pycharm": {
     "name": "#%% md\n"
    }
   },
   "source": [
    "Finalmente vamos calcular o mesmo valor com a função dot do numpy e de novo medir o tempo. Notem que esta é uma versão vetorizada"
   ]
  },
  {
   "cell_type": "code",
   "execution_count": 5,
   "metadata": {
    "pycharm": {
     "name": "#%%\n"
    }
   },
   "outputs": [
    {
     "name": "stdout",
     "output_type": "stream",
     "text": [
      "Result:  249863.265387074\n",
      "Time vectorized:  1.1410713195800781  ms\n"
     ]
    }
   ],
   "source": [
    "ini = time.time()\n",
    "res_vect = np.dot(a, b)\n",
    "time_vect = time.time() - ini\n",
    "\n",
    "print(\"Result: \", res_vect)\n",
    "print(\"Time vectorized: \", time_vect* 1000, \" ms\")"
   ]
  },
  {
   "cell_type": "markdown",
   "metadata": {
    "pycharm": {
     "name": "#%% md\n"
    }
   },
   "source": [
    "Os ganhos da versão vetorizada são muito evidentes !!!"
   ]
  }
 ],
 "metadata": {
  "kernelspec": {
   "display_name": "Python 3 (ipykernel)",
   "language": "python",
   "name": "python3"
  },
  "language_info": {
   "codemirror_mode": {
    "name": "ipython",
    "version": 3
   },
   "file_extension": ".py",
   "mimetype": "text/x-python",
   "name": "python",
   "nbconvert_exporter": "python",
   "pygments_lexer": "ipython3",
   "version": "3.9.7"
  }
 },
 "nbformat": 4,
 "nbformat_minor": 4
}