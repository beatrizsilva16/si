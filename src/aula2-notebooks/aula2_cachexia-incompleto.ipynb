{
 "cells": [
  {
   "cell_type": "markdown",
   "metadata": {
    "pycharm": {
     "name": "#%% md\n"
    }
   },
   "source": [
    "## Dataset cachexia - Exploração de dados, pré-processamento e análise estatística univariada\n",
    "Nesta secção vamos trabalhar com os dados do dataset Cachexia : \n",
    "\n",
    "*\"Concentrations of 63 metabolites in 77 urine samples from cancer patients, measured by 1H NMR (Eisner et al, 2011). Metadata defines the two groups: control and cachexic patients.\"*\n",
    "\n",
    "Importação e análise da dimensão dos dados"
   ]
  },
  {
   "cell_type": "code",
   "execution_count": 1,
   "metadata": {
    "pycharm": {
     "name": "#%%\n"
    }
   },
   "outputs": [],
   "source": [
    "import numpy as np \n",
    "import pandas as pd\n",
    "import matplotlib.pyplot as plt \n",
    "# para desenhar os gráficos dentro do notebook\n",
    "%matplotlib inline\n"
   ]
  },
  {
   "cell_type": "code",
   "execution_count": 5,
   "metadata": {
    "pycharm": {
     "name": "#%%\n"
    }
   },
   "outputs": [
    {
     "name": "stdout",
     "output_type": "stream",
     "text": [
      "(77, 64)\n",
      "(77, 2)\n"
     ]
    },
    {
     "data": {
      "text/plain": "    Patient ID  1.6-Anhydro-beta-D-glucose  1-Methylnicotinamide  \\\n0      PIF_178                       40.85                 65.37   \n1      PIF_087                       62.18                340.36   \n2      PIF_090                      270.43                 64.72   \n3  NETL_005_V1                      154.47                 52.98   \n4      PIF_115                       22.20                 73.70   \n\n   2-Aminobutyrate  2-Hydroxyisobutyrate  2-Oxoglutarate  3-Aminoisobutyrate  \\\n0            18.73                 26.05           71.52             1480.30   \n1            24.29                 41.68           67.36              116.75   \n2            12.18                 65.37           23.81               14.30   \n3           172.43                 74.44         1199.91              555.57   \n4            15.64                 83.93           33.12               29.67   \n\n   3-Hydroxybutyrate  3-Hydroxyisovalerate  3-Indoxylsulfate  ...  Tryptophan  \\\n0              56.83                 10.07            566.80  ...      259.82   \n1              43.82                 79.84            368.71  ...       83.10   \n2               5.64                 23.34            665.14  ...       82.27   \n3             175.91                 25.03            411.58  ...      235.10   \n4              76.71                 69.41            165.67  ...      103.54   \n\n   Tyrosine  Uracil  Valine   Xylose  cis-Aconitate  myo-Inositol  \\\n0    290.03  111.05   86.49    72.24         237.46        135.64   \n1    167.34   46.99  109.95   192.48         333.62        376.15   \n2     60.34   31.50   59.15  2164.62         330.30         86.49   \n3    323.76   30.57  102.51   125.21        1863.11        247.15   \n4    142.59   44.26  160.77   186.79         101.49        749.95   \n\n   trans-Aconitate  pi-Methylhistidine  tau-Methylhistidine  \n0            51.94              157.59               160.77  \n1           217.02              307.97               130.32  \n2            58.56              145.47                83.93  \n3            75.94              249.64               254.68  \n4            98.49               84.77                79.84  \n\n[5 rows x 64 columns]",
      "text/html": "<div>\n<style scoped>\n    .dataframe tbody tr th:only-of-type {\n        vertical-align: middle;\n    }\n\n    .dataframe tbody tr th {\n        vertical-align: top;\n    }\n\n    .dataframe thead th {\n        text-align: right;\n    }\n</style>\n<table border=\"1\" class=\"dataframe\">\n  <thead>\n    <tr style=\"text-align: right;\">\n      <th></th>\n      <th>Patient ID</th>\n      <th>1.6-Anhydro-beta-D-glucose</th>\n      <th>1-Methylnicotinamide</th>\n      <th>2-Aminobutyrate</th>\n      <th>2-Hydroxyisobutyrate</th>\n      <th>2-Oxoglutarate</th>\n      <th>3-Aminoisobutyrate</th>\n      <th>3-Hydroxybutyrate</th>\n      <th>3-Hydroxyisovalerate</th>\n      <th>3-Indoxylsulfate</th>\n      <th>...</th>\n      <th>Tryptophan</th>\n      <th>Tyrosine</th>\n      <th>Uracil</th>\n      <th>Valine</th>\n      <th>Xylose</th>\n      <th>cis-Aconitate</th>\n      <th>myo-Inositol</th>\n      <th>trans-Aconitate</th>\n      <th>pi-Methylhistidine</th>\n      <th>tau-Methylhistidine</th>\n    </tr>\n  </thead>\n  <tbody>\n    <tr>\n      <th>0</th>\n      <td>PIF_178</td>\n      <td>40.85</td>\n      <td>65.37</td>\n      <td>18.73</td>\n      <td>26.05</td>\n      <td>71.52</td>\n      <td>1480.30</td>\n      <td>56.83</td>\n      <td>10.07</td>\n      <td>566.80</td>\n      <td>...</td>\n      <td>259.82</td>\n      <td>290.03</td>\n      <td>111.05</td>\n      <td>86.49</td>\n      <td>72.24</td>\n      <td>237.46</td>\n      <td>135.64</td>\n      <td>51.94</td>\n      <td>157.59</td>\n      <td>160.77</td>\n    </tr>\n    <tr>\n      <th>1</th>\n      <td>PIF_087</td>\n      <td>62.18</td>\n      <td>340.36</td>\n      <td>24.29</td>\n      <td>41.68</td>\n      <td>67.36</td>\n      <td>116.75</td>\n      <td>43.82</td>\n      <td>79.84</td>\n      <td>368.71</td>\n      <td>...</td>\n      <td>83.10</td>\n      <td>167.34</td>\n      <td>46.99</td>\n      <td>109.95</td>\n      <td>192.48</td>\n      <td>333.62</td>\n      <td>376.15</td>\n      <td>217.02</td>\n      <td>307.97</td>\n      <td>130.32</td>\n    </tr>\n    <tr>\n      <th>2</th>\n      <td>PIF_090</td>\n      <td>270.43</td>\n      <td>64.72</td>\n      <td>12.18</td>\n      <td>65.37</td>\n      <td>23.81</td>\n      <td>14.30</td>\n      <td>5.64</td>\n      <td>23.34</td>\n      <td>665.14</td>\n      <td>...</td>\n      <td>82.27</td>\n      <td>60.34</td>\n      <td>31.50</td>\n      <td>59.15</td>\n      <td>2164.62</td>\n      <td>330.30</td>\n      <td>86.49</td>\n      <td>58.56</td>\n      <td>145.47</td>\n      <td>83.93</td>\n    </tr>\n    <tr>\n      <th>3</th>\n      <td>NETL_005_V1</td>\n      <td>154.47</td>\n      <td>52.98</td>\n      <td>172.43</td>\n      <td>74.44</td>\n      <td>1199.91</td>\n      <td>555.57</td>\n      <td>175.91</td>\n      <td>25.03</td>\n      <td>411.58</td>\n      <td>...</td>\n      <td>235.10</td>\n      <td>323.76</td>\n      <td>30.57</td>\n      <td>102.51</td>\n      <td>125.21</td>\n      <td>1863.11</td>\n      <td>247.15</td>\n      <td>75.94</td>\n      <td>249.64</td>\n      <td>254.68</td>\n    </tr>\n    <tr>\n      <th>4</th>\n      <td>PIF_115</td>\n      <td>22.20</td>\n      <td>73.70</td>\n      <td>15.64</td>\n      <td>83.93</td>\n      <td>33.12</td>\n      <td>29.67</td>\n      <td>76.71</td>\n      <td>69.41</td>\n      <td>165.67</td>\n      <td>...</td>\n      <td>103.54</td>\n      <td>142.59</td>\n      <td>44.26</td>\n      <td>160.77</td>\n      <td>186.79</td>\n      <td>101.49</td>\n      <td>749.95</td>\n      <td>98.49</td>\n      <td>84.77</td>\n      <td>79.84</td>\n    </tr>\n  </tbody>\n</table>\n<p>5 rows × 64 columns</p>\n</div>"
     },
     "execution_count": 5,
     "metadata": {},
     "output_type": "execute_result"
    }
   ],
   "source": [
    "data = pd.read_csv('/Users/beatr/Mestrado/2ºano/si/datasets/data_cachexia.csv')\n",
    "meta = pd.read_csv('/Users/beatr/Mestrado/2ºano/si/datasets/meta_cachexia.csv')\n",
    "print (data.shape)\n",
    "print (meta.shape)\n",
    "data.head()"
   ]
  },
  {
   "cell_type": "markdown",
   "metadata": {
    "pycharm": {
     "name": "#%% md\n"
    }
   },
   "source": [
    "Sumário dos dados"
   ]
  },
  {
   "cell_type": "code",
   "execution_count": null,
   "metadata": {
    "pycharm": {
     "name": "#%%\n"
    }
   },
   "outputs": [],
   "source": [
    "data.describe()"
   ]
  },
  {
   "cell_type": "markdown",
   "metadata": {
    "pycharm": {
     "name": "#%% md\n"
    }
   },
   "source": [
    "Sumário dos metadados "
   ]
  },
  {
   "cell_type": "code",
   "execution_count": null,
   "metadata": {
    "pycharm": {
     "name": "#%%\n"
    }
   },
   "outputs": [],
   "source": [
    "meta.describe()"
   ]
  },
  {
   "cell_type": "markdown",
   "metadata": {
    "pycharm": {
     "name": "#%% md\n"
    }
   },
   "source": [
    "**Ex. 1) Calcule a frequência de cada categoria nos metadados**"
   ]
  },
  {
   "cell_type": "code",
   "execution_count": null,
   "metadata": {
    "pycharm": {
     "name": "#%%\n"
    }
   },
   "outputs": [],
   "source": [
    "meta.groupby(\"\")"
   ]
  },
  {
   "cell_type": "markdown",
   "metadata": {
    "pycharm": {
     "name": "#%% md\n"
    }
   },
   "source": [
    "**Ex.2) Verifique que não há valores em falta nos dados.**"
   ]
  },
  {
   "cell_type": "code",
   "execution_count": null,
   "metadata": {
    "pycharm": {
     "name": "#%%\n"
    }
   },
   "outputs": [],
   "source": [
    "data.isnull().sum().sum()"
   ]
  },
  {
   "cell_type": "markdown",
   "metadata": {
    "pycharm": {
     "name": "#%% md\n"
    }
   },
   "source": [
    "Para cada coluna apresentar o intervalo de valores"
   ]
  },
  {
   "cell_type": "code",
   "execution_count": null,
   "metadata": {
    "pycharm": {
     "name": "#%%\n"
    }
   },
   "outputs": [],
   "source": [
    "data.apply(lambda x: str(x.min())+\"---\"+str( x.max()))"
   ]
  },
  {
   "cell_type": "markdown",
   "metadata": {
    "pycharm": {
     "name": "#%% md\n"
    }
   },
   "source": [
    "Criar um gráfico que permita visualizar os valores dos metabolitos \"Alanine\", \"Citrate\" e \"Creatinine\" para os pacientes de control. "
   ]
  },
  {
   "cell_type": "code",
   "execution_count": null,
   "metadata": {
    "pycharm": {
     "name": "#%%\n"
    }
   },
   "outputs": [],
   "source": [
    "data_control = data[meta[\"Muscle.loss\"]==\"control\"]\n",
    "data_control.iloc[:,[13,17,19]].plot.bar()"
   ]
  },
  {
   "cell_type": "markdown",
   "metadata": {
    "pycharm": {
     "name": "#%% md\n"
    }
   },
   "source": [
    "**Ex.3) Exemplo de discretização de dados - altere os dados do metabolito Citrate de valor continuo para discretos: \n",
    "    \"elevado\", \"baixo\" consoante o valor seja: maior ou menor que a média.**"
   ]
  },
  {
   "cell_type": "code",
   "execution_count": null,
   "metadata": {
    "pycharm": {
     "name": "#%%\n"
    }
   },
   "outputs": [],
   "source": []
  },
  {
   "cell_type": "markdown",
   "metadata": {
    "pycharm": {
     "name": "#%% md\n"
    }
   },
   "source": [
    "Standardização dos dados (usando scikit-learn)"
   ]
  },
  {
   "cell_type": "code",
   "execution_count": null,
   "metadata": {
    "pycharm": {
     "name": "#%%\n"
    }
   },
   "outputs": [],
   "source": [
    "from sklearn import preprocessing\n",
    "array_data = preprocessing.scale(data)#, with_mean = False)\n",
    "data_scale =  pd.DataFrame(array_data, index =data.index , columns = data.columns)\n",
    "data_control = data_scale[meta[\"Muscle.loss\"]==\"control\"]\n",
    "data_control.iloc[:,[13,17,19]].plot.bar()"
   ]
  },
  {
   "cell_type": "markdown",
   "metadata": {
    "pycharm": {
     "name": "#%% md\n"
    }
   },
   "source": [
    "**Ex. 4) Cria um boxplot para ver a distribuição dos valores dos metabolitos Asparagine, Acetate, Succinate.**"
   ]
  },
  {
   "cell_type": "code",
   "execution_count": 7,
   "metadata": {
    "pycharm": {
     "name": "#%%\n"
    }
   },
   "outputs": [
    {
     "data": {
      "text/plain": "<Figure size 432x288 with 1 Axes>",
      "image/png": "[encoded data removed]"
     },
     "metadata": {
      "needs_background": "light"
     },
     "output_type": "display_data"
    }
   ],
   "source": [
    "sel_data = data.loc[:,['Asparagine','Acetate','Succinate']].values\n",
    "labels = ['Asparagine','Acetate','Succinate']\n",
    "\n",
    "plt.boxplot(sel_data)\n",
    "plt.xticks([1,2,3],labels)\n",
    "plt.title(\"Boxplot\")\n",
    "plt.show()"
   ]
  },
  {
   "cell_type": "markdown",
   "source": [],
   "metadata": {
    "collapsed": false,
    "pycharm": {
     "name": "#%% md\n"
    }
   }
  },
  {
   "cell_type": "markdown",
   "metadata": {
    "pycharm": {
     "name": "#%% md\n"
    }
   },
   "source": [
    "Transformação logarítmica"
   ]
  },
  {
   "cell_type": "code",
   "execution_count": null,
   "metadata": {
    "pycharm": {
     "name": "#%%\n"
    }
   },
   "outputs": [],
   "source": [
    "log_data = np.log2(data)\n",
    "log_data.apply(lambda x: str(x.min())+\"---\"+str( x.max()))"
   ]
  },
  {
   "cell_type": "code",
   "execution_count": null,
   "metadata": {
    "pycharm": {
     "name": "#%%\n"
    }
   },
   "outputs": [],
   "source": [
    "sel_log_data = log_data.iloc[:,indexes].values\n",
    "\n",
    "plt.boxplot(sel_log_data)\n",
    "plt.xticks([1,2,3],labels)\n",
    "plt.title(\" Boxplot\")\n",
    "plt.show()"
   ]
  },
  {
   "cell_type": "markdown",
   "metadata": {
    "pycharm": {
     "name": "#%% md\n"
    }
   },
   "source": [
    "**Ex. 5) Verifica se a distribuição do metabolito Alanine segue a distribuição normal quer de forma visual (QQplot), quer usando o teste de Shapiro.**"
   ]
  },
  {
   "cell_type": "code",
   "execution_count": null,
   "metadata": {
    "pycharm": {
     "name": "#%%\n"
    }
   },
   "outputs": [],
   "source": [
    "import statsmodels.api as sm\n",
    "from scipy import stats"
   ]
  },
  {
   "cell_type": "code",
   "execution_count": null,
   "metadata": {
    "pycharm": {
     "name": "#%%\n"
    }
   },
   "outputs": [],
   "source": [
    "plt.close()\n",
    "data_alanine = data.Alanine\n",
    "plt.hist(data_alanine)"
   ]
  },
  {
   "cell_type": "code",
   "execution_count": null,
   "metadata": {
    "pycharm": {
     "name": "#%%\n"
    }
   },
   "outputs": [],
   "source": [
    "\n"
   ]
  },
  {
   "cell_type": "code",
   "execution_count": null,
   "metadata": {
    "pycharm": {
     "name": "#%%\n"
    }
   },
   "outputs": [],
   "source": [
    "\n"
   ]
  },
  {
   "cell_type": "markdown",
   "metadata": {
    "pycharm": {
     "name": "#%% md\n"
    }
   },
   "source": [
    "**Ex. 6) Verifica se a concentração de Alanina entre as duas categorias é semelhante, visualmente (usando histogramas) e usando testes estatísticos apropriados.**"
   ]
  },
  {
   "cell_type": "code",
   "execution_count": null,
   "metadata": {
    "pycharm": {
     "name": "#%%\n"
    }
   },
   "outputs": [],
   "source": [
    "#utilizar teste não parametrico\n",
    "# para ser correto estatisticamente, é testar se os valores de alanina para os 2 grupos, tem distribuição normal\n"
   ]
  },
  {
   "cell_type": "code",
   "execution_count": null,
   "metadata": {
    "pycharm": {
     "name": "#%%\n"
    }
   },
   "outputs": [],
   "source": []
  },
  {
   "cell_type": "markdown",
   "metadata": {
    "pycharm": {
     "name": "#%% md\n"
    }
   },
   "source": [
    "Quais os metabolitos que têm concentrações significativamente diferentes entre os dois grupos: control e cachexic. "
   ]
  },
  {
   "cell_type": "code",
   "execution_count": null,
   "metadata": {
    "pycharm": {
     "name": "#%%\n"
    }
   },
   "outputs": [],
   "source": [
    "type(data[meta['Muscle.loss']=='control'])"
   ]
  },
  {
   "cell_type": "code",
   "execution_count": null,
   "metadata": {
    "pycharm": {
     "name": "#%%\n"
    }
   },
   "outputs": [],
   "source": [
    "metabs_de_tt = lambda x : stats.ttest_ind(x[meta['Muscle.loss']=='control'],x[meta['Muscle.loss']=='cachexic'])\n",
    "\n",
    "data.columns[data.apply(lambda x: metabs_de_tt(x)[1]<0.05)]"
   ]
  },
  {
   "cell_type": "markdown",
   "metadata": {
    "pycharm": {
     "name": "#%% md\n"
    }
   },
   "source": [
    "**Ex.7) Repita o anterior usando Testes não paramétricos - Mann-Whitney U test**"
   ]
  },
  {
   "cell_type": "code",
   "execution_count": null,
   "metadata": {
    "pycharm": {
     "name": "#%%\n"
    }
   },
   "outputs": [],
   "source": []
  },
  {
   "cell_type": "markdown",
   "metadata": {
    "pycharm": {
     "name": "#%% md\n"
    }
   },
   "source": [
    "Correções para testes múltiplos"
   ]
  },
  {
   "cell_type": "code",
   "execution_count": null,
   "metadata": {
    "pycharm": {
     "name": "#%%\n"
    }
   },
   "outputs": [],
   "source": [
    "pvalues_tt = data.apply(lambda x: metabs_de_tt(x)[1])\n",
    "pvalues_tt\n",
    "type(pvalues_tt)"
   ]
  },
  {
   "cell_type": "code",
   "execution_count": null,
   "metadata": {
    "pycharm": {
     "name": "#%%\n"
    }
   },
   "outputs": [],
   "source": [
    "import statsmodels.stats as sm\n",
    "corr_pvalues = sm.multitest.multipletests(pvalues_tt, method = \"fdr_bh\")[1]\n",
    "corr_pvalues"
   ]
  },
  {
   "cell_type": "markdown",
   "metadata": {
    "pycharm": {
     "name": "#%% md\n"
    }
   },
   "source": [
    "### Correlações"
   ]
  },
  {
   "cell_type": "code",
   "execution_count": null,
   "metadata": {
    "pycharm": {
     "name": "#%%\n"
    }
   },
   "outputs": [],
   "source": [
    "data_glucose = data.Glucose\n",
    "data_sucrose = data.Sucrose\n",
    "\n",
    "plt.scatter(data_glucose, data_sucrose)\n",
    "plt.show()"
   ]
  },
  {
   "cell_type": "code",
   "execution_count": null,
   "metadata": {
    "pycharm": {
     "name": "#%%\n"
    }
   },
   "outputs": [],
   "source": [
    "corr, _ = stats.pearsonr(data_glucose, data_sucrose)\n",
    "corr"
   ]
  },
  {
   "cell_type": "code",
   "execution_count": null,
   "metadata": {
    "pycharm": {
     "name": "#%%\n"
    }
   },
   "outputs": [],
   "source": [
    "sp_corr, _ = stats.spearmanr(data_glucose, data_sucrose)\n",
    "sp_corr"
   ]
  },
  {
   "cell_type": "code",
   "execution_count": null,
   "metadata": {
    "pycharm": {
     "name": "#%%\n"
    }
   },
   "outputs": [],
   "source": [
    "corr_matrix = data.corr()\n",
    "corr_matrix"
   ]
  },
  {
   "cell_type": "code",
   "execution_count": null,
   "metadata": {
    "pycharm": {
     "name": "#%%\n"
    }
   },
   "outputs": [],
   "source": [
    "type(corr_matrix)"
   ]
  },
  {
   "cell_type": "code",
   "execution_count": null,
   "metadata": {
    "pycharm": {
     "name": "#%%\n"
    }
   },
   "outputs": [],
   "source": [
    "corr_matrix_sp = data.corr(method = \"spearman\")\n",
    "corr_matrix_sp"
   ]
  },
  {
   "cell_type": "code",
   "execution_count": null,
   "metadata": {
    "pycharm": {
     "name": "#%%\n"
    }
   },
   "outputs": [],
   "source": [
    "import seaborn as sn\n",
    "sn.heatmap(corr_matrix.iloc[1:10,1:10], annot=True)\n",
    "plt.show()"
   ]
  },
  {
   "cell_type": "code",
   "execution_count": null,
   "metadata": {
    "pycharm": {
     "name": "#%%\n"
    }
   },
   "outputs": [],
   "source": [
    "sn.heatmap(corr_matrix.iloc[1:20,1:20], annot=False)\n",
    "plt.show()"
   ]
  },
  {
   "cell_type": "markdown",
   "metadata": {
    "pycharm": {
     "name": "#%% md\n"
    }
   },
   "source": [
    "Análise de variância / regressão linear"
   ]
  },
  {
   "cell_type": "code",
   "execution_count": null,
   "metadata": {
    "pycharm": {
     "name": "#%%\n"
    }
   },
   "outputs": [],
   "source": [
    "from statsmodels.formula.api import ols\n",
    "from statsmodels.stats.anova import anova_lm\n",
    "\n",
    "lm = ols(\"data.Leucine~data.Valine\", data).fit()\n",
    "anova_lm(lm)"
   ]
  },
  {
   "cell_type": "code",
   "execution_count": null,
   "metadata": {
    "pycharm": {
     "name": "#%%\n"
    }
   },
   "outputs": [],
   "source": [
    "lm.summary()"
   ]
  },
  {
   "cell_type": "code",
   "execution_count": null,
   "metadata": {
    "pycharm": {
     "name": "#%%\n"
    }
   },
   "outputs": [],
   "source": [
    "lm.rsquared"
   ]
  },
  {
   "cell_type": "markdown",
   "metadata": {
    "pycharm": {
     "name": "#%% md\n"
    }
   },
   "source": [
    "**Ex.8) Repita o anterior adicionando a Glucose como variável dependente**"
   ]
  },
  {
   "cell_type": "code",
   "execution_count": null,
   "metadata": {
    "pycharm": {
     "name": "#%%\n"
    }
   },
   "outputs": [],
   "source": []
  },
  {
   "cell_type": "code",
   "execution_count": null,
   "metadata": {
    "pycharm": {
     "name": "#%%\n"
    }
   },
   "outputs": [],
   "source": []
  },
  {
   "cell_type": "code",
   "execution_count": null,
   "metadata": {
    "pycharm": {
     "name": "#%%\n"
    }
   },
   "outputs": [],
   "source": [
    "data[\"MuscleLoss\"] = meta[\"Muscle.loss\"]"
   ]
  },
  {
   "cell_type": "code",
   "execution_count": null,
   "metadata": {
    "pycharm": {
     "name": "#%%\n"
    }
   },
   "outputs": [],
   "source": [
    "lm3 = ols(\"data.Leucine~data.MuscleLoss\", data).fit()"
   ]
  },
  {
   "cell_type": "code",
   "execution_count": null,
   "metadata": {
    "pycharm": {
     "name": "#%%\n"
    }
   },
   "outputs": [],
   "source": [
    "lm3.summary()"
   ]
  }
 ],
 "metadata": {
  "anaconda-cloud": {},
  "kernelspec": {
   "display_name": "Python 3",
   "language": "python",
   "name": "python3"
  },
  "language_info": {
   "codemirror_mode": {
    "name": "ipython",
    "version": 3
   },
   "file_extension": ".py",
   "mimetype": "text/x-python",
   "name": "python",
   "nbconvert_exporter": "python",
   "pygments_lexer": "ipython3",
   "version": "3.7.6"
  }
 },
 "nbformat": 4,
 "nbformat_minor": 1
}